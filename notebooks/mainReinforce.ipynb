{
 "cells": [
  {
   "cell_type": "code",
   "execution_count": 1,
   "id": "32d01e2a",
   "metadata": {},
   "outputs": [],
   "source": [
    "import os\n",
    "\n",
    "os.chdir('..')"
   ]
  },
  {
   "cell_type": "code",
   "execution_count": 2,
   "id": "f0b9d6b9",
   "metadata": {},
   "outputs": [
    {
     "name": "stderr",
     "output_type": "stream",
     "text": [
      "2022-04-08 13:20:48.607285: W tensorflow/stream_executor/platform/default/dso_loader.cc:64] Could not load dynamic library 'libcudart.so.11.0'; dlerror: libcudart.so.11.0: cannot open shared object file: No such file or directory\n",
      "2022-04-08 13:20:48.607309: I tensorflow/stream_executor/cuda/cudart_stub.cc:29] Ignore above cudart dlerror if you do not have a GPU set up on your machine.\n"
     ]
    }
   ],
   "source": [
    "from tensorflow import keras"
   ]
  },
  {
   "cell_type": "code",
   "execution_count": 3,
   "id": "18b62abd",
   "metadata": {},
   "outputs": [
    {
     "name": "stderr",
     "output_type": "stream",
     "text": [
      "2022-04-08 13:20:50.452917: I tensorflow/core/platform/cpu_feature_guard.cc:151] This TensorFlow binary is optimized with oneAPI Deep Neural Network Library (oneDNN) to use the following CPU instructions in performance-critical operations:  AVX2 FMA\n",
      "To enable them in other operations, rebuild TensorFlow with the appropriate compiler flags.\n",
      "2022-04-08 13:20:50.453877: W tensorflow/stream_executor/platform/default/dso_loader.cc:64] Could not load dynamic library 'libcuda.so.1'; dlerror: libcuda.so.1: cannot open shared object file: No such file or directory\n",
      "2022-04-08 13:20:50.453890: W tensorflow/stream_executor/cuda/cuda_driver.cc:269] failed call to cuInit: UNKNOWN ERROR (303)\n",
      "2022-04-08 13:20:50.453906: I tensorflow/stream_executor/cuda/cuda_diagnostics.cc:156] kernel driver does not appear to be running on this host (seriema): /proc/driver/nvidia/version does not exist\n"
     ]
    }
   ],
   "source": [
    "import tensorflow as tf\n",
    "from keras import backend as K\n",
    "from reinforce import Reinforcement\n",
    "from keras.models import Sequential\n",
    "from model import Model \n",
    "from prediction import Predictor\n",
    "from predictSMILES import *\n",
    "from utils import *\n",
    "import numpy as np"
   ]
  },
  {
   "cell_type": "code",
   "execution_count": 13,
   "id": "474f8a67",
   "metadata": {},
   "outputs": [],
   "source": [
    "config_file = '/home/joao/documentos/DiverseDRL/configReinforce.json' # Configuration file\n",
    "property_identifier = 'qed' # It can be 'a2d', kor', 'qed', 'sas', 'logP', or 'jak2'\n",
    "#'a2d' (checked), kor (checked), 'qed', 'sas', 'logP', or 'jak2'\n",
    "os.environ[\"CUDA_VISIBLE_DEVICES\"]=\"0\"\n",
    "#sets environment variables in the notebook\n",
    "session = tf.compat.v1.Session()\n",
    "#encapsulates the environment in which Operation objects\n",
    "#are executed, and Tensor objects are evaluated\n",
    "K.set_session(session)\n",
    "#sets the session on\n",
    "\n",
    "#Por que precisa inicializar uma sessão?"
   ]
  },
  {
   "cell_type": "code",
   "execution_count": 14,
   "id": "b7c7dc56",
   "metadata": {},
   "outputs": [
    {
     "name": "stdout",
     "output_type": "stream",
     "text": [
      "main.py -function- load_config\n"
     ]
    }
   ],
   "source": [
    "# load configuration file\n",
    "configReinforce,exp_time=load_config('/home/joao/documentos/DiverseDRL/configReinforce.json')"
   ]
  },
  {
   "cell_type": "code",
   "execution_count": 15,
   "id": "a1f3c8e2",
   "metadata": {},
   "outputs": [],
   "source": [
    "# Load generator object\n",
    "generator_model = Sequential() #creates a model of plain stack of layers\n",
    "#where each layer has exactly one input tensor and one output tensor.\n",
    "generator_model = Model(configReinforce)\n",
    "#groups layers into an object with training and inference features.\n",
    "generator_model.model.load_weights(\"/home/joao/documentos/DiverseDRL/generator_model/LSTM_2layer_adam_d3.hdf5\")"
   ]
  },
  {
   "cell_type": "code",
   "execution_count": 16,
   "id": "d58fdc8e",
   "metadata": {},
   "outputs": [
    {
     "data": {
      "text/plain": [
       "dict_keys(['exp_name', 'file_path_logP', 'file_path_jak2', 'file_path_a2d', 'file_path_kor', 'file_path_generated', 'output', 'paddSize', 'data_length', 'units', 'num_epochs', 'optimizer', 'seed', 'batch_size', 'validation_split', 'verbose_training', 'dropout', 'learning_rate', 'finetune_sample_num', 'model_name_unbiased', 'model_name_biased', 'n_iterations', 'n_to_generate', 'n_policy', 'threshold_set', 'n_to_draw', 'evaluateSmiles'])"
      ]
     },
     "execution_count": 16,
     "metadata": {},
     "output_type": "execute_result"
    }
   ],
   "source": [
    "configReinforce.keys()"
   ]
  },
  {
   "cell_type": "code",
   "execution_count": 17,
   "id": "f325ce19",
   "metadata": {},
   "outputs": [],
   "source": [
    "# Initialize lists to evaluate the model\n",
    "difs = [] # List with the differences between the averages\n",
    "#of the desired property distributions (G_0 and G_optimized)\n",
    "divs = [] # List with the internal diversities of the G_optimized generated molecules \n",
    "perc_valid = [] # List with the % of valid SMILES generated by G_optimized\n",
    "    \n",
    "# To compute SA score or qed it's not necessary to have a Predictor model\n",
    "if property_identifier != 'sas' and property_identifier != 'qed':\n",
    "    # Load the Predictor object\n",
    "    predictor = Predictor(configReinforce,property_identifier)\n",
    "else:\n",
    "    predictor = None"
   ]
  },
  {
   "cell_type": "code",
   "execution_count": 18,
   "id": "db33e198",
   "metadata": {},
   "outputs": [
    {
     "name": "stdout",
     "output_type": "stream",
     "text": [
      "exp_name:Model\n",
      "file_path_logP:data/logP_labels.csv\n",
      "file_path_jak2:data/jak2_data.csv\n",
      "file_path_a2d:data/data_clean_a2d.csv\n",
      "file_path_kor:data/data_clean_kop.csv\n",
      "file_path_generated:data/generated\n",
      "output:createdSMILES/newSmiles_\n",
      "paddSize:65\n",
      "data_length:0\n",
      "units:256\n",
      "num_epochs:16\n",
      "optimizer:adam\n",
      "seed:56\n",
      "batch_size:10\n",
      "validation_split:0.1\n",
      "verbose_training:True\n",
      "dropout:0.3\n",
      "learning_rate:0.001\n",
      "finetune_sample_num:10\n",
      "model_name_unbiased:generator_model\\LSTM_2layer_adam_d3.hdf5\n",
      "model_name_biased:generator_model\\LSTM_2layer_adam_d3_updated\n",
      "n_iterations:75\n",
      "n_to_generate:100\n",
      "n_policy:7\n",
      "threshold_set:2\n",
      "n_to_draw:2\n",
      "evaluateSmiles:True\n"
     ]
    }
   ],
   "source": [
    "for k,v in configReinforce.items():\n",
    "    print(f'{k}:{v}')"
   ]
  },
  {
   "cell_type": "code",
   "execution_count": 19,
   "id": "5bee4cb6",
   "metadata": {},
   "outputs": [],
   "source": [
    "configReinforce['model_name_unbiased'] = 'generator_model/LSTM_2layer_adam_d3.hdf5'\n",
    "configReinforce['model_name_biased'] = 'generator_model/LSTM_2layer_adam_d3_updated'\n",
    "# Create Reinforcement Learning object\n",
    "RL_obj = Reinforcement(generator_model, predictor,configReinforce,property_identifier)\n",
    "#configReinforce - parameters to use in the predictive model and get_reward function\n",
    "#property_identifier - It indicates what property we want to optimize\n",
    "#must change both to adapt the model?"
   ]
  },
  {
   "cell_type": "code",
   "execution_count": 20,
   "id": "b4ad9920",
   "metadata": {},
   "outputs": [
    {
     "name": "stdout",
     "output_type": "stream",
     "text": [
      "....................................\n",
      "updated model load_weights is DONE!\n"
     ]
    },
    {
     "name": "stderr",
     "output_type": "stream",
     "text": [
      "100%|██████████| 1/1 [00:02<00:00,  2.11s/it]00 [00:00<?, ?it/s]\n",
      "100%|██████████| 1/1 [00:01<00:00,  1.00s/it]00 [00:02<03:29,  2.11s/it]\n",
      "100%|██████████| 1/1 [00:00<00:00,  1.12it/s]00 [00:03<02:23,  1.46s/it]\n",
      "100%|██████████| 1/1 [00:00<00:00,  1.13it/s]00 [00:04<01:56,  1.20s/it]\n",
      "100%|██████████| 1/1 [00:00<00:00,  1.14it/s]00 [00:04<01:43,  1.08s/it]\n",
      "100%|██████████| 1/1 [00:00<00:00,  1.14it/s]00 [00:05<01:35,  1.01s/it]\n",
      "100%|██████████| 1/1 [00:00<00:00,  1.14it/s]00 [00:06<01:30,  1.04it/s]\n",
      "100%|██████████| 1/1 [00:00<00:00,  1.13it/s]00 [00:07<01:27,  1.07it/s]\n",
      "100%|██████████| 1/1 [00:00<00:00,  1.14it/s]00 [00:08<01:24,  1.09it/s]\n",
      "100%|██████████| 1/1 [00:00<00:00,  1.68it/s]00 [00:09<01:22,  1.10it/s]\n",
      "100%|██████████| 1/1 [00:00<00:00,  1.14it/s]100 [00:09<01:13,  1.23it/s]\n",
      "100%|██████████| 1/1 [00:01<00:00,  1.21s/it]100 [00:10<01:14,  1.20it/s]\n",
      "100%|██████████| 1/1 [00:00<00:00,  1.40it/s]100 [00:11<01:23,  1.05it/s]\n",
      "100%|██████████| 1/1 [00:01<00:00,  1.12s/it]100 [00:12<01:16,  1.14it/s]\n",
      "100%|██████████| 1/1 [00:00<00:00,  1.37it/s]100 [00:13<01:21,  1.05it/s]\n",
      "100%|██████████| 1/1 [00:01<00:00,  1.04s/it]100 [00:14<01:15,  1.13it/s]\n",
      "100%|██████████| 1/1 [00:01<00:00,  1.07s/it]100 [00:15<01:18,  1.07it/s]\n",
      "100%|██████████| 1/1 [00:01<00:00,  1.05s/it]100 [00:16<01:20,  1.03it/s]\n",
      "100%|██████████| 1/1 [00:01<00:00,  1.01s/it]100 [00:17<01:21,  1.00it/s]\n",
      "100%|██████████| 1/1 [00:01<00:00,  1.03s/it]100 [00:18<01:21,  1.00s/it]\n",
      "100%|██████████| 1/1 [00:00<00:00,  1.14it/s]100 [00:19<01:21,  1.01s/it]\n",
      "100%|██████████| 1/1 [00:01<00:00,  1.01s/it]100 [00:20<01:16,  1.03it/s]\n",
      "100%|██████████| 1/1 [00:00<00:00,  1.07it/s]100 [00:21<01:16,  1.01it/s]\n",
      "100%|██████████| 1/1 [00:01<00:00,  1.01s/it]100 [00:22<01:14,  1.03it/s]\n",
      "100%|██████████| 1/1 [00:01<00:00,  1.01s/it]100 [00:23<01:14,  1.02it/s]\n",
      "100%|██████████| 1/1 [00:00<00:00,  1.00it/s]100 [00:24<01:14,  1.01it/s]\n",
      "100%|██████████| 1/1 [00:01<00:00,  1.00s/it]100 [00:25<01:13,  1.01it/s]\n",
      "100%|██████████| 1/1 [00:00<00:00,  1.02it/s]100 [00:26<01:12,  1.00it/s]\n",
      "100%|██████████| 1/1 [00:00<00:00,  1.08it/s]100 [00:27<01:11,  1.01it/s]\n",
      "100%|██████████| 1/1 [00:00<00:00,  1.07it/s]100 [00:28<01:09,  1.03it/s]\n",
      "100%|██████████| 1/1 [00:00<00:00,  1.09it/s]100 [00:29<01:07,  1.04it/s]\n",
      "100%|██████████| 1/1 [00:00<00:00,  1.10it/s]100 [00:30<01:05,  1.05it/s]\n",
      "100%|██████████| 1/1 [00:00<00:00,  1.12it/s]100 [00:31<01:03,  1.07it/s]\n",
      "100%|██████████| 1/1 [00:00<00:00,  1.66it/s]100 [00:32<01:01,  1.08it/s]\n",
      "100%|██████████| 1/1 [00:00<00:00,  1.13it/s]100 [00:32<00:54,  1.21it/s]\n",
      "100%|██████████| 1/1 [00:00<00:00,  1.10it/s]100 [00:33<00:55,  1.18it/s]\n",
      "100%|██████████| 1/1 [00:00<00:00,  1.14it/s]100 [00:34<00:55,  1.16it/s]\n",
      "100%|██████████| 1/1 [00:00<00:00,  1.14it/s]100 [00:35<00:54,  1.15it/s]\n",
      "100%|██████████| 1/1 [00:00<00:00,  1.14it/s]100 [00:36<00:54,  1.14it/s]\n",
      "100%|██████████| 1/1 [00:00<00:00,  1.13it/s]100 [00:37<00:53,  1.14it/s]\n",
      "100%|██████████| 1/1 [00:01<00:00,  1.18s/it]100 [00:38<00:52,  1.14it/s]\n",
      "100%|██████████| 1/1 [00:00<00:00,  1.08it/s]100 [00:39<00:57,  1.03it/s]\n",
      "100%|██████████| 1/1 [00:00<00:00,  1.13it/s]100 [00:40<00:55,  1.04it/s]\n",
      "100%|██████████| 1/1 [00:00<00:00,  1.14it/s]100 [00:41<00:53,  1.07it/s]\n",
      "100%|██████████| 1/1 [00:01<00:00,  1.24s/it]100 [00:42<00:51,  1.09it/s]\n",
      "100%|██████████| 1/1 [00:01<00:00,  1.07s/it]100 [00:43<00:55,  1.02s/it]\n",
      "100%|██████████| 1/1 [00:01<00:00,  1.04s/it]100 [00:44<00:55,  1.03s/it]\n",
      "100%|██████████| 1/1 [00:01<00:00,  1.04s/it]100 [00:45<00:54,  1.04s/it]\n",
      "100%|██████████| 1/1 [00:01<00:00,  1.03s/it]100 [00:46<00:53,  1.04s/it]\n",
      "100%|██████████| 1/1 [00:01<00:00,  1.02s/it]100 [00:47<00:52,  1.04s/it]\n",
      "100%|██████████| 1/1 [00:01<00:00,  1.02s/it]100 [00:48<00:51,  1.03s/it]\n",
      "100%|██████████| 1/1 [00:01<00:00,  1.03s/it]100 [00:49<00:50,  1.03s/it]\n",
      "100%|██████████| 1/1 [00:00<00:00,  1.49it/s]100 [00:50<00:49,  1.03s/it]\n",
      "100%|██████████| 1/1 [00:00<00:00,  1.03it/s]100 [00:51<00:43,  1.08it/s]\n",
      "100%|██████████| 1/1 [00:00<00:00,  1.01it/s]100 [00:52<00:43,  1.06it/s]\n",
      "100%|██████████| 1/1 [00:00<00:00,  1.03it/s]100 [00:53<00:42,  1.05it/s]\n",
      "100%|██████████| 1/1 [00:00<00:00,  1.03it/s]100 [00:54<00:42,  1.04it/s]\n",
      "100%|██████████| 1/1 [00:00<00:00,  1.03it/s]100 [00:55<00:41,  1.04it/s]\n",
      "100%|██████████| 1/1 [00:00<00:00,  1.05it/s]100 [00:56<00:40,  1.03it/s]\n",
      "100%|██████████| 1/1 [00:00<00:00,  1.05it/s]100 [00:57<00:39,  1.04it/s]\n",
      "100%|██████████| 1/1 [00:00<00:00,  1.07it/s]100 [00:58<00:38,  1.04it/s]\n",
      "100%|██████████| 1/1 [00:00<00:00,  1.06it/s]100 [00:58<00:37,  1.05it/s]\n",
      "100%|██████████| 1/1 [00:00<00:00,  1.52it/s]100 [00:59<00:36,  1.05it/s]\n",
      "100%|██████████| 1/1 [00:00<00:00,  1.10it/s]100 [01:00<00:31,  1.16it/s]\n",
      "100%|██████████| 1/1 [00:00<00:00,  1.12it/s]100 [01:01<00:31,  1.14it/s]\n",
      "100%|██████████| 1/1 [00:00<00:00,  1.14it/s]100 [01:02<00:30,  1.13it/s]\n",
      "100%|██████████| 1/1 [00:00<00:00,  1.10it/s]100 [01:03<00:30,  1.13it/s]\n",
      "100%|██████████| 1/1 [00:00<00:00,  1.13it/s]100 [01:04<00:29,  1.12it/s]\n",
      "100%|██████████| 1/1 [00:00<00:00,  1.13it/s]100 [01:05<00:28,  1.12it/s]\n",
      "100%|██████████| 1/1 [00:00<00:00,  1.14it/s]100 [01:05<00:27,  1.12it/s]\n",
      "100%|██████████| 1/1 [00:00<00:00,  1.14it/s]100 [01:06<00:26,  1.13it/s]\n",
      "100%|██████████| 1/1 [00:00<00:00,  1.13it/s]100 [01:07<00:25,  1.13it/s]\n",
      "100%|██████████| 1/1 [00:00<00:00,  1.13it/s]100 [01:08<00:24,  1.13it/s]\n",
      "100%|██████████| 1/1 [00:00<00:00,  1.14it/s]100 [01:09<00:23,  1.13it/s]\n",
      "100%|██████████| 1/1 [00:00<00:00,  2.13it/s]100 [01:10<00:22,  1.13it/s]\n",
      "100%|██████████| 1/1 [00:00<00:00,  1.14it/s]100 [01:10<00:19,  1.31it/s]\n",
      "100%|██████████| 1/1 [00:01<00:00,  1.13s/it]100 [01:11<00:19,  1.26it/s]\n",
      "100%|██████████| 1/1 [00:01<00:00,  1.05s/it]100 [01:12<00:20,  1.12it/s]\n",
      "100%|██████████| 1/1 [00:01<00:00,  1.04s/it]100 [01:13<00:20,  1.06it/s]\n",
      "100%|██████████| 1/1 [00:01<00:00,  1.04s/it]100 [01:14<00:20,  1.03it/s]\n",
      "100%|██████████| 1/1 [00:01<00:00,  1.05s/it]100 [01:15<00:19,  1.00it/s]\n",
      "100%|██████████| 1/1 [00:01<00:00,  1.03s/it]100 [01:17<00:19,  1.01s/it]\n",
      "100%|██████████| 1/1 [00:01<00:00,  1.03s/it]100 [01:18<00:18,  1.02s/it]\n",
      "100%|██████████| 1/1 [00:01<00:00,  1.00s/it]100 [01:19<00:17,  1.02s/it]\n",
      "100%|██████████| 1/1 [00:01<00:00,  1.00s/it]100 [01:20<00:16,  1.02s/it]\n",
      "100%|██████████| 1/1 [00:00<00:00,  1.01it/s]100 [01:21<00:15,  1.01s/it]\n",
      "100%|██████████| 1/1 [00:01<00:00,  1.00s/it]100 [01:22<00:14,  1.01s/it]\n",
      "100%|██████████| 1/1 [00:01<00:00,  1.03s/it]100 [01:23<00:13,  1.01s/it]\n",
      "100%|██████████| 1/1 [00:00<00:00,  1.02it/s]100 [01:24<00:12,  1.01s/it]\n",
      "100%|██████████| 1/1 [00:00<00:00,  1.03it/s]100 [01:25<00:11,  1.00s/it]\n",
      "100%|██████████| 1/1 [00:01<00:00,  1.01s/it]100 [01:26<00:09,  1.01it/s]\n",
      "100%|██████████| 1/1 [00:00<00:00,  1.05it/s]100 [01:27<00:08,  1.00it/s]\n",
      "100%|██████████| 1/1 [00:00<00:00,  2.63it/s]100 [01:28<00:07,  1.02it/s]\n",
      "100%|██████████| 1/1 [00:00<00:00,  1.05it/s]100 [01:28<00:05,  1.24it/s]\n",
      "100%|██████████| 1/1 [00:00<00:00,  1.07it/s]100 [01:29<00:05,  1.18it/s]\n",
      "100%|██████████| 1/1 [00:00<00:00,  1.09it/s]100 [01:30<00:04,  1.14it/s]\n",
      "100%|██████████| 1/1 [00:00<00:00,  1.11it/s]100 [01:31<00:03,  1.13it/s]\n",
      "100%|██████████| 1/1 [00:00<00:00,  1.12it/s]100 [01:32<00:02,  1.12it/s]\n",
      "100%|██████████| 1/1 [00:00<00:00,  1.11it/s]100 [01:33<00:01,  1.12it/s]\n",
      "100%|██████████| 1/1 [00:00<00:00,  1.13it/s]100 [01:33<00:00,  1.12it/s]\n",
      "Generating molecules...: 100%|██████████| 100/100 [01:34<00:00,  1.05it/s]\n",
      "RDKit ERROR: [14:14:26] Can't kekulize mol.  Unkekulized atoms: 14 15 16 17 18 19 20\n",
      "RDKit ERROR: \n",
      "RDKit ERROR: [14:14:26] SMILES Parse Error: unclosed ring for input: 'Cc1ccccc1CNCCCN(c2ccccn2)CC1'\n",
      "[14:14:26] Can't kekulize mol.  Unkekulized atoms: 14 15 16 17 18 19 20\n",
      "\n",
      "RDKit ERROR: [14:14:26] Can't kekulize mol.  Unkekulized atoms: 2 3 12 13 14\n",
      "[14:14:26] SMILES Parse Error: unclosed ring for input: 'Cc1ccccc1CNCCCN(c2ccccn2)CC1'\n",
      "[14:14:26] Can't kekulize mol.  Unkekulized atoms: 2 3 12 13 14\n",
      "\n",
      "RDKit ERROR: \n",
      "RDKit ERROR: [14:14:26] Can't kekulize mol.  Unkekulized atoms: 12 13 14 15 16\n",
      "RDKit ERROR: \n",
      "[14:14:26] Can't kekulize mol.  Unkekulized atoms: 12 13 14 15 16\n",
      "\n"
     ]
    },
    {
     "name": "stdout",
     "output_type": "stream",
     "text": [
      "Proportion of valid SMILES: 0.96\n",
      "Max QED:  0.8615493546277326\n",
      "Mean QED:  0.8289466696287651\n",
      "Min QED:  0.5297256591150028\n"
     ]
    },
    {
     "data": {
      "image/png": "[encoded data removed]",
      "text/plain": [
       "<Figure size 432x288 with 1 Axes>"
      ]
     },
     "metadata": {
      "needs_background": "light"
     },
     "output_type": "display_data"
    }
   ],
   "source": [
    "    # SMILES generation with unbiased Generator \n",
    "#    smiles_original, prediction_original,valid,unique,div = RL_obj.test_generator(configReinforce.n_to_generate,0,True)\n",
    "    \n",
    "#      Training Generator with RL    \n",
    "#    RL_obj.policy_gradient()\n",
    "    \n",
    "# SMILES generation after 85 training iterations \n",
    "smiles_iteration85,prediction_iteration85,valid,unique,div,perc_desirable = RL_obj.test_generator(configReinforce.n_to_generate,85, False)"
   ]
  },
  {
   "cell_type": "code",
   "execution_count": 21,
   "id": "7fd446fb",
   "metadata": {},
   "outputs": [
    {
     "name": "stdout",
     "output_type": "stream",
     "text": [
      "BIASED GENERATION: 0\n",
      "\n",
      " --------- Original model LOADED! ---------\n"
     ]
    },
    {
     "name": "stderr",
     "output_type": "stream",
     "text": [
      "100%|██████████| 1/1 [00:00<00:00,  1.19it/s]00 [00:00<?, ?it/s]\n",
      "100%|██████████| 1/1 [00:00<00:00,  1.11it/s]00 [00:00<01:23,  1.19it/s]\n",
      "100%|██████████| 1/1 [00:01<00:00,  1.41s/it]00 [00:01<01:25,  1.14it/s]\n",
      "100%|██████████| 1/1 [00:01<00:00,  1.80s/it]00 [00:03<01:48,  1.12s/it]\n",
      "100%|██████████| 1/1 [00:01<00:00,  1.20s/it]00 [00:04<02:13,  1.39s/it]\n",
      "100%|██████████| 1/1 [00:00<00:00,  1.11it/s]00 [00:06<02:05,  1.32s/it]\n",
      "100%|██████████| 1/1 [00:01<00:00,  1.71s/it]00 [00:07<01:50,  1.18s/it]\n",
      "100%|██████████| 1/1 [00:02<00:00,  2.18s/it]00 [00:08<02:06,  1.36s/it]\n",
      "100%|██████████| 1/1 [00:01<00:00,  1.12s/it]00 [00:10<02:28,  1.62s/it]\n",
      "100%|██████████| 1/1 [00:01<00:00,  1.35s/it]00 [00:12<02:13,  1.46s/it]\n",
      "100%|██████████| 1/1 [00:02<00:00,  2.03s/it]100 [00:13<02:08,  1.43s/it]\n",
      "100%|██████████| 1/1 [00:01<00:00,  1.54s/it]100 [00:15<02:23,  1.61s/it]\n",
      "100%|██████████| 1/1 [00:00<00:00,  1.20it/s]100 [00:17<02:20,  1.59s/it]\n",
      "100%|██████████| 1/1 [00:01<00:00,  1.67s/it]100 [00:17<01:58,  1.36s/it]\n",
      "100%|██████████| 1/1 [00:01<00:00,  1.74s/it]100 [00:19<02:05,  1.46s/it]\n",
      "100%|██████████| 1/1 [00:01<00:00,  1.09s/it]100 [00:21<02:11,  1.54s/it]\n",
      "100%|██████████| 1/1 [00:00<00:00,  1.26it/s]100 [00:22<01:58,  1.41s/it]\n",
      "100%|██████████| 1/1 [00:01<00:00,  1.88s/it]100 [00:23<01:41,  1.22s/it]\n",
      "100%|██████████| 1/1 [00:01<00:00,  1.33s/it]100 [00:25<01:56,  1.42s/it]\n",
      "100%|██████████| 1/1 [00:02<00:00,  2.10s/it]100 [00:26<01:52,  1.39s/it]\n",
      "100%|██████████| 1/1 [00:00<00:00,  1.25it/s]100 [00:28<02:08,  1.61s/it]\n",
      "100%|██████████| 1/1 [00:01<00:00,  1.12s/it]100 [00:29<01:47,  1.37s/it]\n",
      "100%|██████████| 1/1 [00:01<00:00,  1.37s/it]100 [00:30<01:40,  1.29s/it]\n",
      "100%|██████████| 1/1 [00:01<00:00,  1.27s/it]100 [00:31<01:41,  1.32s/it]\n",
      "100%|██████████| 1/1 [00:00<00:00,  1.18it/s]100 [00:33<01:39,  1.30s/it]\n",
      "100%|██████████| 1/1 [00:01<00:00,  1.12s/it]100 [00:33<01:27,  1.17s/it]\n",
      "100%|██████████| 1/1 [00:01<00:00,  1.46s/it]100 [00:35<01:25,  1.15s/it]\n",
      "100%|██████████| 1/1 [00:01<00:00,  1.09s/it]100 [00:36<01:31,  1.25s/it]\n",
      "100%|██████████| 1/1 [00:01<00:00,  1.52s/it]100 [00:37<01:26,  1.20s/it]\n",
      "100%|██████████| 1/1 [00:01<00:00,  2.00s/it]100 [00:39<01:32,  1.30s/it]\n",
      "100%|██████████| 1/1 [00:01<00:00,  1.14s/it]100 [00:41<01:45,  1.51s/it]\n",
      "100%|██████████| 1/1 [00:00<00:00,  1.15it/s]100 [00:42<01:36,  1.40s/it]\n",
      "100%|██████████| 1/1 [00:01<00:00,  1.48s/it]100 [00:43<01:24,  1.24s/it]\n",
      "100%|██████████| 1/1 [00:00<00:00,  1.05it/s]100 [00:44<01:28,  1.32s/it]\n",
      "100%|██████████| 1/1 [00:02<00:00,  2.25s/it]100 [00:45<01:19,  1.21s/it]\n",
      "100%|██████████| 1/1 [00:00<00:00,  1.00it/s]100 [00:47<01:38,  1.52s/it]\n",
      "100%|██████████| 1/1 [00:01<00:00,  1.29s/it]100 [00:48<01:27,  1.36s/it]\n",
      "100%|██████████| 1/1 [00:01<00:00,  1.19s/it]100 [00:50<01:24,  1.34s/it]\n",
      "100%|██████████| 1/1 [00:01<00:00,  1.29s/it]100 [00:51<01:20,  1.30s/it]\n",
      "100%|██████████| 1/1 [00:01<00:00,  1.13s/it]100 [00:52<01:18,  1.29s/it]\n",
      "100%|██████████| 1/1 [00:01<00:00,  1.51s/it]100 [00:53<01:14,  1.25s/it]\n",
      "100%|██████████| 1/1 [00:01<00:00,  1.50s/it]100 [00:55<01:18,  1.33s/it]\n",
      "100%|██████████| 1/1 [00:01<00:00,  1.07s/it]100 [00:56<01:19,  1.38s/it]\n",
      "100%|██████████| 1/1 [00:01<00:00,  1.19s/it]100 [00:57<01:13,  1.29s/it]\n",
      "100%|██████████| 1/1 [00:01<00:00,  1.45s/it]100 [00:58<01:10,  1.26s/it]\n",
      "100%|██████████| 1/1 [00:00<00:00,  1.05it/s]100 [01:00<01:12,  1.32s/it]\n",
      "100%|██████████| 1/1 [00:00<00:00,  1.88it/s]100 [01:01<01:05,  1.21s/it]\n",
      "100%|██████████| 1/1 [00:01<00:00,  1.22s/it]100 [01:01<00:53,  1.01s/it]\n",
      "100%|██████████| 1/1 [00:01<00:00,  1.42s/it]100 [01:03<00:55,  1.07s/it]\n",
      "100%|██████████| 1/1 [00:00<00:00,  1.03it/s]100 [01:04<01:00,  1.18s/it]\n",
      "100%|██████████| 1/1 [00:01<00:00,  1.30s/it]100 [01:05<00:55,  1.12s/it]\n",
      "100%|██████████| 1/1 [00:01<00:00,  1.26s/it]100 [01:06<00:57,  1.17s/it]\n",
      "100%|██████████| 1/1 [00:01<00:00,  1.42s/it]100 [01:08<00:57,  1.20s/it]\n",
      "100%|██████████| 1/1 [00:00<00:00,  1.12it/s]100 [01:09<00:59,  1.26s/it]\n",
      "100%|██████████| 1/1 [00:01<00:00,  1.49s/it]100 [01:10<00:53,  1.15s/it]\n",
      "100%|██████████| 1/1 [00:01<00:00,  1.00s/it]100 [01:11<00:56,  1.26s/it]\n",
      "100%|██████████| 1/1 [00:01<00:00,  1.36s/it]100 [01:12<00:51,  1.18s/it]\n",
      "100%|██████████| 1/1 [00:00<00:00,  1.26it/s]100 [01:14<00:53,  1.24s/it]\n",
      "100%|██████████| 1/1 [00:01<00:00,  1.78s/it]100 [01:15<00:46,  1.10s/it]\n",
      "100%|██████████| 1/1 [00:01<00:00,  1.57s/it]100 [01:16<00:53,  1.31s/it]\n",
      "100%|██████████| 1/1 [00:01<00:00,  1.98s/it]100 [01:18<00:55,  1.39s/it]\n",
      "100%|██████████| 1/1 [00:01<00:00,  1.26s/it]100 [01:20<01:01,  1.56s/it]\n",
      "100%|██████████| 1/1 [00:01<00:00,  1.16s/it]100 [01:21<00:56,  1.48s/it]\n",
      "100%|██████████| 1/1 [00:02<00:00,  2.19s/it]100 [01:22<00:51,  1.38s/it]\n",
      "100%|██████████| 1/1 [00:00<00:00,  1.56it/s]100 [01:25<00:58,  1.62s/it]\n",
      "100%|██████████| 1/1 [00:01<00:00,  1.83s/it]100 [01:25<00:46,  1.33s/it]\n",
      "100%|██████████| 1/1 [00:01<00:00,  1.06s/it]100 [01:27<00:50,  1.48s/it]\n",
      "100%|██████████| 1/1 [00:01<00:00,  1.39s/it]100 [01:28<00:44,  1.36s/it]\n",
      "100%|██████████| 1/1 [00:01<00:00,  1.47s/it]100 [01:29<00:43,  1.37s/it]\n",
      "100%|██████████| 1/1 [00:01<00:00,  1.37s/it]100 [01:31<00:43,  1.40s/it]\n",
      "100%|██████████| 1/1 [00:01<00:00,  1.27s/it]100 [01:32<00:41,  1.39s/it]\n",
      "100%|██████████| 1/1 [00:01<00:00,  1.32s/it]100 [01:34<00:39,  1.36s/it]\n",
      "100%|██████████| 1/1 [00:00<00:00,  1.06it/s]100 [01:35<00:37,  1.35s/it]\n",
      "100%|██████████| 1/1 [00:00<00:00,  1.07it/s]100 [01:36<00:33,  1.22s/it]\n",
      "100%|██████████| 1/1 [00:00<00:00,  1.91it/s]100 [01:37<00:29,  1.14s/it]\n",
      "100%|██████████| 1/1 [00:01<00:00,  1.55s/it]100 [01:37<00:23,  1.05it/s]\n",
      "100%|██████████| 1/1 [00:01<00:00,  1.07s/it]100 [01:39<00:27,  1.14s/it]\n",
      "100%|██████████| 1/1 [00:01<00:00,  1.08s/it]100 [01:40<00:25,  1.12s/it]\n",
      "100%|██████████| 1/1 [00:00<00:00,  1.47it/s]100 [01:41<00:24,  1.10s/it]\n",
      "100%|██████████| 1/1 [00:01<00:00,  1.33s/it]100 [01:42<00:20,  1.02it/s]\n",
      "100%|██████████| 1/1 [00:02<00:00,  2.26s/it]100 [01:43<00:21,  1.08s/it]\n",
      "100%|██████████| 1/1 [00:01<00:00,  1.62s/it]100 [01:45<00:27,  1.44s/it]\n",
      "100%|██████████| 1/1 [00:02<00:00,  2.73s/it]100 [01:47<00:26,  1.49s/it]\n",
      "100%|██████████| 1/1 [00:02<00:00,  2.65s/it]100 [01:50<00:31,  1.86s/it]\n",
      "100%|██████████| 1/1 [00:01<00:00,  1.55s/it]100 [01:52<00:33,  2.10s/it]\n",
      "100%|██████████| 1/1 [00:02<00:00,  2.44s/it]100 [01:54<00:29,  1.94s/it]\n",
      "100%|██████████| 1/1 [00:01<00:00,  1.45s/it]100 [01:56<00:29,  2.09s/it]\n",
      "100%|██████████| 1/1 [00:02<00:00,  2.77s/it]100 [01:58<00:24,  1.90s/it]\n",
      "100%|██████████| 1/1 [00:01<00:00,  1.70s/it]100 [02:01<00:25,  2.16s/it]\n",
      "100%|██████████| 1/1 [00:01<00:00,  1.27s/it]100 [02:02<00:22,  2.02s/it]\n",
      "100%|██████████| 1/1 [00:01<00:00,  1.47s/it]100 [02:03<00:17,  1.80s/it]\n",
      "100%|██████████| 1/1 [00:01<00:00,  1.03s/it]100 [02:05<00:15,  1.70s/it]\n",
      "100%|██████████| 1/1 [00:01<00:00,  1.37s/it]100 [02:06<00:11,  1.50s/it]\n",
      "100%|██████████| 1/1 [00:01<00:00,  1.17s/it]100 [02:07<00:10,  1.46s/it]\n",
      "100%|██████████| 1/1 [00:01<00:00,  1.82s/it]100 [02:09<00:08,  1.37s/it]\n",
      "100%|██████████| 1/1 [00:01<00:00,  1.23s/it]100 [02:10<00:07,  1.51s/it]\n",
      "100%|██████████| 1/1 [00:00<00:00,  1.38it/s]100 [02:12<00:05,  1.43s/it]\n",
      "100%|██████████| 1/1 [00:01<00:00,  1.34s/it]100 [02:12<00:03,  1.22s/it]\n",
      "100%|██████████| 1/1 [00:01<00:00,  1.22s/it]100 [02:14<00:02,  1.25s/it]\n",
      "100%|██████████| 1/1 [00:01<00:00,  1.09s/it]100 [02:15<00:01,  1.24s/it]\n",
      "Generating molecules...: 100%|██████████| 100/100 [02:16<00:00,  1.36s/it]"
     ]
    },
    {
     "name": "stdout",
     "output_type": "stream",
     "text": [
      "Proportion of valid SMILES: 0.99\n",
      "Max QED:  0.9421492135839376\n",
      "Mean QED:  0.6616438576705056\n",
      "Min QED:  0.12278999845344646\n"
     ]
    },
    {
     "name": "stderr",
     "output_type": "stream",
     "text": [
      "\n",
      "RDKit ERROR: [14:32:18] SMILES Parse Error: unclosed ring for input: 'CC1CCC2C(C(=O)N2c3ccc(C#N)cc32)CC1c1ccc(O)cc1'\n",
      "[14:32:18] SMILES Parse Error: unclosed ring for input: 'CC1CCC2C(C(=O)N2c3ccc(C#N)cc32)CC1c1ccc(O)cc1'\n",
      "RDKit ERROR: [14:32:18] Explicit valence for atom # 3 C, 5, is greater than permitted\n",
      "[14:32:18] Explicit valence for atom # 3 C, 5, is greater than permitted\n",
      "RDKit ERROR: [14:32:18] Can't kekulize mol.  Unkekulized atoms: 12 13 14 15 26\n",
      "RDKit ERROR: \n",
      "[14:32:18] Can't kekulize mol.  Unkekulized atoms: 12 13 14 15 26\n",
      "\n"
     ]
    },
    {
     "data": {
      "image/png": "[encoded data removed]",
      "text/plain": [
       "<Figure size 432x288 with 1 Axes>"
      ]
     },
     "metadata": {
      "needs_background": "light"
     },
     "output_type": "display_data"
    },
    {
     "name": "stdout",
     "output_type": "stream",
     "text": [
      "\n",
      " --------- Updated model LOADED! ---------\n"
     ]
    },
    {
     "name": "stderr",
     "output_type": "stream",
     "text": [
      "100%|██████████| 1/1 [00:00<00:00,  1.10it/s]00 [00:00<?, ?it/s]\n",
      "100%|██████████| 1/1 [00:00<00:00,  1.12it/s]00 [00:00<01:30,  1.10it/s]\n",
      "100%|██████████| 1/1 [00:00<00:00,  2.05it/s]00 [00:01<01:28,  1.11it/s]\n",
      "100%|██████████| 1/1 [00:00<00:00,  1.12it/s]00 [00:02<01:09,  1.40it/s]\n",
      "100%|██████████| 1/1 [00:01<00:00,  1.26s/it]00 [00:03<01:15,  1.27it/s]\n",
      "100%|██████████| 1/1 [00:00<00:00,  1.32it/s]00 [00:04<01:31,  1.04it/s]\n",
      "100%|██████████| 1/1 [00:01<00:00,  1.06s/it]00 [00:05<01:23,  1.12it/s]\n",
      "100%|██████████| 1/1 [00:01<00:00,  1.06s/it]00 [00:06<01:28,  1.06it/s]\n",
      "100%|██████████| 1/1 [00:00<00:00,  1.38it/s]00 [00:07<01:30,  1.02it/s]\n",
      "100%|██████████| 1/1 [00:01<00:00,  1.06s/it]00 [00:08<01:22,  1.11it/s]\n",
      "100%|██████████| 1/1 [00:01<00:00,  1.04s/it]100 [00:09<01:25,  1.05it/s]\n",
      "100%|██████████| 1/1 [00:01<00:00,  1.17s/it]100 [00:10<01:27,  1.02it/s]\n",
      "100%|██████████| 1/1 [00:01<00:00,  1.05s/it]100 [00:11<01:31,  1.04s/it]\n",
      "100%|██████████| 1/1 [00:01<00:00,  1.02s/it]100 [00:12<01:30,  1.04s/it]\n",
      "100%|██████████| 1/1 [00:00<00:00,  1.16it/s]100 [00:13<01:29,  1.04s/it]\n",
      "100%|██████████| 1/1 [00:01<00:00,  1.05s/it]100 [00:14<01:23,  1.01it/s]\n",
      "100%|██████████| 1/1 [00:01<00:00,  1.03s/it]100 [00:15<01:24,  1.00s/it]\n",
      "100%|██████████| 1/1 [00:01<00:00,  1.03s/it]100 [00:16<01:24,  1.01s/it]\n",
      "100%|██████████| 1/1 [00:01<00:00,  1.01s/it]100 [00:17<01:23,  1.02s/it]\n",
      "100%|██████████| 1/1 [00:01<00:00,  1.03s/it]100 [00:18<01:22,  1.02s/it]\n",
      "100%|██████████| 1/1 [00:01<00:00,  1.03s/it]100 [00:19<01:21,  1.02s/it]\n",
      "100%|██████████| 1/1 [00:00<00:00,  1.53it/s]100 [00:20<01:20,  1.03s/it]\n",
      "100%|██████████| 1/1 [00:01<00:00,  1.00s/it]100 [00:21<01:11,  1.09it/s]\n",
      "100%|██████████| 1/1 [00:00<00:00,  1.01it/s]100 [00:22<01:12,  1.06it/s]\n",
      "100%|██████████| 1/1 [00:00<00:00,  1.51it/s]100 [00:23<01:12,  1.05it/s]\n",
      "100%|██████████| 1/1 [00:00<00:00,  1.04it/s]100 [00:23<01:05,  1.15it/s]\n",
      "100%|██████████| 1/1 [00:00<00:00,  1.06it/s]100 [00:24<01:06,  1.11it/s]\n",
      "100%|██████████| 1/1 [00:00<00:00,  1.09it/s]100 [00:25<01:06,  1.10it/s]\n",
      "100%|██████████| 1/1 [00:00<00:00,  1.10it/s]100 [00:26<01:05,  1.09it/s]\n",
      "100%|██████████| 1/1 [00:00<00:00,  1.11it/s]100 [00:27<01:04,  1.10it/s]\n",
      "100%|██████████| 1/1 [00:00<00:00,  1.11it/s]100 [00:28<01:03,  1.10it/s]\n",
      "100%|██████████| 1/1 [00:00<00:00,  1.11it/s]100 [00:29<01:02,  1.10it/s]\n",
      "100%|██████████| 1/1 [00:00<00:00,  1.11it/s]100 [00:30<01:01,  1.10it/s]\n",
      "100%|██████████| 1/1 [00:00<00:00,  1.02it/s]100 [00:31<01:00,  1.11it/s]\n",
      "100%|██████████| 1/1 [00:01<00:00,  1.23s/it]100 [00:32<01:01,  1.08it/s]\n",
      "100%|██████████| 1/1 [00:01<00:00,  1.28s/it]100 [00:33<01:06,  1.02s/it]\n",
      "100%|██████████| 1/1 [00:01<00:00,  1.23s/it]100 [00:34<01:10,  1.10s/it]\n",
      "100%|██████████| 1/1 [00:01<00:00,  1.57s/it]100 [00:35<01:11,  1.14s/it]\n",
      "100%|██████████| 1/1 [00:01<00:00,  1.47s/it]100 [00:37<01:18,  1.27s/it]\n",
      "100%|██████████| 1/1 [00:01<00:00,  1.48s/it]100 [00:38<01:21,  1.33s/it]\n",
      "100%|██████████| 1/1 [00:01<00:00,  1.50s/it]100 [00:40<01:22,  1.37s/it]\n",
      "100%|██████████| 1/1 [00:01<00:00,  1.47s/it]100 [00:41<01:23,  1.41s/it]\n",
      "100%|██████████| 1/1 [00:01<00:00,  1.47s/it]100 [00:43<01:23,  1.43s/it]\n",
      "100%|██████████| 1/1 [00:01<00:00,  1.48s/it]100 [00:44<01:22,  1.45s/it]\n",
      "100%|██████████| 1/1 [00:01<00:00,  1.45s/it]100 [00:46<01:21,  1.46s/it]\n",
      "100%|██████████| 1/1 [00:01<00:00,  1.43s/it]100 [00:47<01:20,  1.46s/it]\n",
      "100%|██████████| 1/1 [00:01<00:00,  1.41s/it]100 [00:49<01:18,  1.45s/it]\n",
      "100%|██████████| 1/1 [00:01<00:00,  1.40s/it]100 [00:50<01:16,  1.44s/it]\n",
      "100%|██████████| 1/1 [00:01<00:00,  1.39s/it]100 [00:52<01:14,  1.43s/it]\n",
      "100%|██████████| 1/1 [00:01<00:00,  1.41s/it]100 [00:53<01:12,  1.42s/it]\n",
      "100%|██████████| 1/1 [00:01<00:00,  1.37s/it]100 [00:54<01:10,  1.42s/it]\n",
      "100%|██████████| 1/1 [00:01<00:00,  1.36s/it]100 [00:56<01:08,  1.41s/it]\n",
      "100%|██████████| 1/1 [00:01<00:00,  1.37s/it]100 [00:57<01:06,  1.39s/it]\n",
      "100%|██████████| 1/1 [00:01<00:00,  1.36s/it]100 [00:58<01:05,  1.39s/it]\n",
      "100%|██████████| 1/1 [00:01<00:00,  1.34s/it]100 [01:00<01:03,  1.38s/it]\n",
      "100%|██████████| 1/1 [00:01<00:00,  1.30s/it]100 [01:01<01:01,  1.37s/it]\n",
      "100%|██████████| 1/1 [00:01<00:00,  1.31s/it]100 [01:02<00:59,  1.35s/it]\n",
      "100%|██████████| 1/1 [00:01<00:00,  1.30s/it]100 [01:04<00:57,  1.34s/it]\n",
      "100%|██████████| 1/1 [00:01<00:00,  1.28s/it]100 [01:05<00:55,  1.33s/it]\n",
      "100%|██████████| 1/1 [00:01<00:00,  1.29s/it]100 [01:06<00:53,  1.31s/it]\n",
      "100%|██████████| 1/1 [00:01<00:00,  1.28s/it]100 [01:08<00:52,  1.31s/it]\n",
      "100%|██████████| 1/1 [00:01<00:00,  1.18s/it]100 [01:09<00:50,  1.30s/it]\n",
      "100%|██████████| 1/1 [00:01<00:00,  1.24s/it]100 [01:10<00:48,  1.26s/it]\n",
      "100%|██████████| 1/1 [00:01<00:00,  1.25s/it]100 [01:11<00:46,  1.26s/it]\n",
      "100%|██████████| 1/1 [00:00<00:00,  1.57it/s]100 [01:13<00:45,  1.26s/it]\n",
      "100%|██████████| 1/1 [00:01<00:00,  1.26s/it]100 [01:13<00:37,  1.07s/it]\n",
      "100%|██████████| 1/1 [00:01<00:00,  1.24s/it]100 [01:15<00:38,  1.13s/it]\n",
      "100%|██████████| 1/1 [00:01<00:00,  1.23s/it]100 [01:16<00:38,  1.16s/it]\n",
      "100%|██████████| 1/1 [00:01<00:00,  1.26s/it]100 [01:17<00:37,  1.18s/it]\n",
      "100%|██████████| 1/1 [00:01<00:00,  1.28s/it]100 [01:18<00:37,  1.21s/it]\n",
      "100%|██████████| 1/1 [00:01<00:00,  1.68s/it]100 [01:20<00:36,  1.23s/it]\n",
      "100%|██████████| 1/1 [00:01<00:00,  1.45s/it]100 [01:21<00:39,  1.37s/it]\n",
      "100%|██████████| 1/1 [00:01<00:00,  1.41s/it]100 [01:23<00:38,  1.39s/it]\n",
      "100%|██████████| 1/1 [00:01<00:00,  1.48s/it]100 [01:24<00:37,  1.40s/it]\n",
      "100%|██████████| 1/1 [00:01<00:00,  1.48s/it]100 [01:26<00:37,  1.43s/it]\n",
      "100%|██████████| 1/1 [00:01<00:00,  1.47s/it]100 [01:27<00:36,  1.44s/it]\n",
      "100%|██████████| 1/1 [00:00<00:00,  1.00it/s]100 [01:29<00:34,  1.45s/it]\n",
      "100%|██████████| 1/1 [00:01<00:00,  1.05s/it]100 [01:30<00:30,  1.32s/it]\n",
      "100%|██████████| 1/1 [00:01<00:00,  1.46s/it]100 [01:31<00:27,  1.24s/it]\n",
      "100%|██████████| 1/1 [00:01<00:00,  1.46s/it]100 [01:32<00:27,  1.30s/it]\n",
      "100%|██████████| 1/1 [00:01<00:00,  1.44s/it]100 [01:34<00:27,  1.35s/it]\n",
      "100%|██████████| 1/1 [00:01<00:00,  1.02s/it]100 [01:35<00:26,  1.38s/it]\n",
      "100%|██████████| 1/1 [00:01<00:00,  1.39s/it]100 [01:36<00:22,  1.27s/it]\n",
      "100%|██████████| 1/1 [00:01<00:00,  1.37s/it]100 [01:37<00:22,  1.31s/it]\n",
      "100%|██████████| 1/1 [00:01<00:00,  1.02s/it]100 [01:39<00:21,  1.33s/it]\n",
      "100%|██████████| 1/1 [00:00<00:00,  1.02it/s]100 [01:40<00:18,  1.24s/it]\n",
      "100%|██████████| 1/1 [00:00<00:00,  1.02it/s]100 [01:41<00:16,  1.16s/it]\n",
      "100%|██████████| 1/1 [00:00<00:00,  1.03it/s]100 [01:42<00:14,  1.11s/it]\n",
      "100%|██████████| 1/1 [00:00<00:00,  1.04it/s]100 [01:43<00:12,  1.07s/it]\n",
      "100%|██████████| 1/1 [00:00<00:00,  1.02it/s]100 [01:44<00:11,  1.04s/it]\n",
      "100%|██████████| 1/1 [00:00<00:00,  1.07it/s]100 [01:45<00:10,  1.02s/it]\n",
      "100%|██████████| 1/1 [00:00<00:00,  1.06it/s]100 [01:46<00:08,  1.00it/s]\n",
      "100%|██████████| 1/1 [00:00<00:00,  1.10it/s]100 [01:47<00:07,  1.02it/s]\n",
      "100%|██████████| 1/1 [00:00<00:00,  1.09it/s]100 [01:47<00:06,  1.04it/s]\n",
      "100%|██████████| 1/1 [00:00<00:00,  1.10it/s]100 [01:48<00:05,  1.05it/s]\n",
      "100%|██████████| 1/1 [00:00<00:00,  1.10it/s]100 [01:49<00:04,  1.06it/s]\n",
      "100%|██████████| 1/1 [00:00<00:00,  1.10it/s]100 [01:50<00:03,  1.07it/s]\n",
      "100%|██████████| 1/1 [00:00<00:00,  1.11it/s]100 [01:51<00:02,  1.08it/s]\n",
      "100%|██████████| 1/1 [00:00<00:00,  1.12it/s]100 [01:52<00:01,  1.09it/s]\n",
      "100%|██████████| 1/1 [00:00<00:00,  1.10it/s]100 [01:53<00:00,  1.10it/s]\n",
      "Generating molecules...: 100%|██████████| 100/100 [01:54<00:00,  1.14s/it]"
     ]
    },
    {
     "name": "stdout",
     "output_type": "stream",
     "text": [
      "Proportion of valid SMILES (UNB,B): 0.99 0.97\n",
      "Max of QED: (UNB,B) 0.9421492135839376 0.9158202796931024\n",
      "Mean of QED: (UNB,B) 0.6616438576705056 0.7448403939865146\n",
      "Min of QED: (UNB,B) 0.12278999845344646 0.33942358984550913\n"
     ]
    },
    {
     "name": "stderr",
     "output_type": "stream",
     "text": [
      "\n",
      "RDKit ERROR: [14:34:12] SMILES Parse Error: extra close parentheses while parsing: Cc1ccccc1CN1CC2CNc2ccccc3C2)CC1\n",
      "[14:34:12] SMILES Parse Error: extra close parentheses while parsing: Cc1ccccc1CN1CC2CNc2ccccc3C2)CC1\n",
      "RDKit ERROR: [14:34:12] SMILES Parse Error: Failed parsing SMILES 'Cc1ccccc1CN1CC2CNc2ccccc3C2)CC1' for input: 'Cc1ccccc1CN1CC2CNc2ccccc3C2)CC1'\n",
      "RDKit ERROR: [14:34:12] SMILES Parse Error: extra close parentheses while parsing: CC1=CCCN2CCc3ccccc32)C1\n",
      "RDKit ERROR: [14:34:12] SMILES Parse Error: Failed parsing SMILES 'CC1=CCCN2CCc3ccccc32)C1' for input: 'CC1=CCCN2CCc3ccccc32)C1'\n",
      "RDKit ERROR: [14:34:12] SMILES Parse Error: extra close parentheses while parsing: Cc1ccccc1CN1CCc2ccncc2)CC1\n",
      "RDKit ERROR: [14:34:12] SMILES Parse Error: Failed parsing SMILES 'Cc1ccccc1CN1CCc2ccncc2)CC1' for input: 'Cc1ccccc1CN1CCc2ccncc2)CC1'\n",
      "[14:34:12] SMILES Parse Error: Failed parsing SMILES 'Cc1ccccc1CN1CC2CNc2ccccc3C2)CC1' for input: 'Cc1ccccc1CN1CC2CNc2ccccc3C2)CC1'\n",
      "[14:34:12] SMILES Parse Error: extra close parentheses while parsing: CC1=CCCN2CCc3ccccc32)C1\n",
      "[14:34:12] SMILES Parse Error: Failed parsing SMILES 'CC1=CCCN2CCc3ccccc32)C1' for input: 'CC1=CCCN2CCc3ccccc32)C1'\n",
      "[14:34:12] SMILES Parse Error: extra close parentheses while parsing: Cc1ccccc1CN1CCc2ccncc2)CC1\n",
      "[14:34:12] SMILES Parse Error: Failed parsing SMILES 'Cc1ccccc1CN1CCc2ccncc2)CC1' for input: 'Cc1ccccc1CN1CCc2ccncc2)CC1'\n"
     ]
    },
    {
     "data": {
      "image/png": "[encoded data removed]",
      "text/plain": [
       "<Figure size 432x288 with 1 Axes>"
      ]
     },
     "metadata": {
      "needs_background": "light"
     },
     "output_type": "display_data"
    },
    {
     "name": "stdout",
     "output_type": "stream",
     "text": [
      "BIASED GENERATION: 1\n",
      "\n",
      " --------- Original model LOADED! ---------\n"
     ]
    },
    {
     "name": "stderr",
     "output_type": "stream",
     "text": [
      "100%|██████████| 1/1 [00:00<00:00,  1.19it/s]00 [00:00<?, ?it/s]\n",
      "100%|██████████| 1/1 [00:01<00:00,  1.45s/it]00 [00:00<01:23,  1.19it/s]\n",
      "100%|██████████| 1/1 [00:01<00:00,  1.24s/it]00 [00:02<01:57,  1.20s/it]\n",
      "100%|██████████| 1/1 [00:00<00:00,  1.72it/s]00 [00:03<01:58,  1.22s/it]\n",
      "100%|██████████| 1/1 [00:01<00:00,  1.02s/it]00 [00:04<01:32,  1.03it/s]\n",
      "100%|██████████| 1/1 [00:01<00:00,  1.08s/it]00 [00:05<01:34,  1.01it/s]\n",
      "100%|██████████| 1/1 [00:01<00:00,  1.48s/it]00 [00:06<01:35,  1.02s/it]\n",
      "100%|██████████| 1/1 [00:01<00:00,  1.78s/it]00 [00:07<01:48,  1.17s/it]\n",
      "100%|██████████| 1/1 [00:02<00:00,  2.03s/it]00 [00:09<02:05,  1.37s/it]\n",
      "100%|██████████| 1/1 [00:00<00:00,  1.23it/s]00 [00:11<02:23,  1.57s/it]\n",
      "100%|██████████| 1/1 [00:01<00:00,  1.01s/it]100 [00:12<02:00,  1.34s/it]\n",
      "100%|██████████| 1/1 [00:01<00:00,  1.77s/it]100 [00:13<01:50,  1.24s/it]\n",
      "100%|██████████| 1/1 [00:01<00:00,  1.24s/it]100 [00:15<02:03,  1.40s/it]\n",
      "100%|██████████| 1/1 [00:01<00:00,  1.63s/it]100 [00:16<01:57,  1.35s/it]\n",
      "100%|██████████| 1/1 [00:01<00:00,  1.25s/it]100 [00:17<02:03,  1.44s/it]\n",
      "100%|██████████| 1/1 [00:00<00:00,  1.03it/s]100 [00:19<01:57,  1.38s/it]\n",
      "100%|██████████| 1/1 [00:01<00:00,  1.40s/it]100 [00:20<01:45,  1.26s/it]\n",
      "100%|██████████| 1/1 [00:01<00:00,  1.27s/it]100 [00:21<01:48,  1.30s/it]\n",
      "100%|██████████| 1/1 [00:01<00:00,  1.74s/it]100 [00:22<01:46,  1.29s/it]\n",
      "100%|██████████| 1/1 [00:01<00:00,  1.46s/it]100 [00:24<01:55,  1.43s/it]\n",
      "100%|██████████| 1/1 [00:01<00:00,  1.55s/it]100 [00:26<01:55,  1.44s/it]\n",
      "100%|██████████| 1/1 [00:02<00:00,  2.09s/it]100 [00:27<01:56,  1.47s/it]\n",
      "100%|██████████| 1/1 [00:01<00:00,  1.58s/it]100 [00:29<02:09,  1.66s/it]\n",
      "100%|██████████| 1/1 [00:01<00:00,  1.89s/it]100 [00:31<02:05,  1.63s/it]\n",
      "100%|██████████| 1/1 [00:01<00:00,  1.35s/it]100 [00:33<02:10,  1.71s/it]\n",
      "100%|██████████| 1/1 [00:00<00:00,  1.02it/s]100 [00:34<02:00,  1.60s/it]\n",
      "100%|██████████| 1/1 [00:00<00:00,  1.07it/s]100 [00:35<01:44,  1.42s/it]\n",
      "100%|██████████| 1/1 [00:00<00:00,  1.05it/s]100 [00:36<01:33,  1.27s/it]\n",
      "100%|██████████| 1/1 [00:01<00:00,  1.56s/it]100 [00:37<01:24,  1.18s/it]\n",
      "100%|██████████| 1/1 [00:01<00:00,  1.86s/it]100 [00:39<01:31,  1.29s/it]\n",
      "100%|██████████| 1/1 [00:02<00:00,  2.41s/it]100 [00:40<01:42,  1.46s/it]\n",
      "100%|██████████| 1/1 [00:00<00:00,  1.45it/s]100 [00:43<02:00,  1.75s/it]\n",
      "100%|██████████| 1/1 [00:01<00:00,  1.87s/it]100 [00:43<01:37,  1.43s/it]\n",
      "100%|██████████| 1/1 [00:01<00:00,  1.43s/it]100 [00:45<01:44,  1.56s/it]\n",
      "100%|██████████| 1/1 [00:01<00:00,  1.78s/it]100 [00:47<01:40,  1.52s/it]\n",
      "100%|██████████| 1/1 [00:01<00:00,  1.25s/it]100 [00:49<01:44,  1.60s/it]\n",
      "100%|██████████| 1/1 [00:01<00:00,  1.98s/it]100 [00:50<01:35,  1.50s/it]\n",
      "100%|██████████| 1/1 [00:00<00:00,  1.32it/s]100 [00:52<01:43,  1.64s/it]\n",
      "100%|██████████| 1/1 [00:02<00:00,  2.43s/it]100 [00:53<01:25,  1.38s/it]\n",
      "100%|██████████| 1/1 [00:01<00:00,  1.61s/it]100 [00:55<01:43,  1.70s/it]\n",
      "100%|██████████| 1/1 [00:01<00:00,  1.54s/it]100 [00:57<01:40,  1.67s/it]\n",
      "100%|██████████| 1/1 [00:01<00:00,  1.20s/it]100 [00:58<01:36,  1.63s/it]\n",
      "100%|██████████| 1/1 [00:00<00:00,  1.07it/s]100 [00:59<01:27,  1.50s/it]\n",
      "100%|██████████| 1/1 [00:01<00:00,  1.99s/it]100 [01:00<01:16,  1.33s/it]\n",
      "100%|██████████| 1/1 [00:00<00:00,  1.08it/s]100 [01:02<01:25,  1.53s/it]\n",
      "100%|██████████| 1/1 [00:01<00:00,  1.13s/it]100 [01:03<01:14,  1.35s/it]\n",
      "100%|██████████| 1/1 [00:01<00:00,  1.92s/it]100 [01:04<01:09,  1.28s/it]\n",
      "100%|██████████| 1/1 [00:00<00:00,  1.16it/s]100 [01:06<01:18,  1.48s/it]\n",
      "100%|██████████| 1/1 [00:01<00:00,  1.73s/it]100 [01:07<01:07,  1.29s/it]\n",
      "100%|██████████| 1/1 [00:01<00:00,  1.11s/it]100 [01:09<01:12,  1.42s/it]\n",
      "100%|██████████| 1/1 [00:01<00:00,  1.34s/it]100 [01:10<01:06,  1.33s/it]\n",
      "100%|██████████| 1/1 [00:01<00:00,  1.25s/it]100 [01:11<01:05,  1.33s/it]\n",
      "100%|██████████| 1/1 [00:01<00:00,  1.54s/it]100 [01:13<01:02,  1.31s/it]\n",
      "100%|██████████| 1/1 [00:01<00:00,  1.24s/it]100 [01:14<01:04,  1.38s/it]\n",
      "100%|██████████| 1/1 [00:01<00:00,  1.07s/it]100 [01:15<01:01,  1.34s/it]\n",
      "100%|██████████| 1/1 [00:01<00:00,  1.70s/it]100 [01:16<00:56,  1.26s/it]\n",
      "100%|██████████| 1/1 [00:00<00:00,  1.50it/s]100 [01:18<01:01,  1.39s/it]\n",
      "100%|██████████| 1/1 [00:01<00:00,  1.24s/it]100 [01:19<00:50,  1.17s/it]\n",
      "100%|██████████| 1/1 [00:01<00:00,  1.42s/it]100 [01:20<00:50,  1.19s/it]\n",
      "100%|██████████| 1/1 [00:00<00:00,  1.15it/s]100 [01:21<00:51,  1.26s/it]\n",
      "100%|██████████| 1/1 [00:01<00:00,  1.46s/it]100 [01:22<00:45,  1.15s/it]\n",
      "100%|██████████| 1/1 [00:01<00:00,  1.17s/it]100 [01:24<00:48,  1.24s/it]\n",
      "100%|██████████| 1/1 [00:01<00:00,  1.21s/it]100 [01:25<00:46,  1.22s/it]\n",
      "100%|██████████| 1/1 [00:02<00:00,  2.05s/it]100 [01:26<00:45,  1.22s/it]\n",
      "100%|██████████| 1/1 [00:01<00:00,  1.38s/it]100 [01:28<00:52,  1.47s/it]\n",
      "100%|██████████| 1/1 [00:01<00:00,  1.09s/it]100 [01:30<00:50,  1.44s/it]\n",
      "100%|██████████| 1/1 [00:00<00:00,  1.44it/s]100 [01:31<00:45,  1.34s/it]\n",
      "100%|██████████| 1/1 [00:00<00:00,  1.11it/s]100 [01:31<00:37,  1.14s/it]\n",
      "100%|██████████| 1/1 [00:01<00:00,  1.00s/it]100 [01:32<00:34,  1.07s/it]\n",
      "100%|██████████| 1/1 [00:01<00:00,  1.35s/it]100 [01:33<00:32,  1.05s/it]\n",
      "100%|██████████| 1/1 [00:01<00:00,  1.06s/it]100 [01:35<00:34,  1.14s/it]\n",
      "100%|██████████| 1/1 [00:01<00:00,  1.43s/it]100 [01:36<00:32,  1.12s/it]\n",
      "100%|██████████| 1/1 [00:01<00:00,  1.14s/it]100 [01:37<00:33,  1.21s/it]\n",
      "100%|██████████| 1/1 [00:01<00:00,  1.34s/it]100 [01:38<00:32,  1.19s/it]\n",
      "100%|██████████| 1/1 [00:02<00:00,  2.76s/it]100 [01:40<00:32,  1.24s/it]\n",
      "100%|██████████| 1/1 [00:01<00:00,  1.56s/it]100 [01:42<00:42,  1.69s/it]\n",
      "100%|██████████| 1/1 [00:01<00:00,  1.72s/it]100 [01:44<00:39,  1.65s/it]\n",
      "100%|██████████| 1/1 [00:01<00:00,  1.10s/it]100 [01:46<00:38,  1.68s/it]\n",
      "100%|██████████| 1/1 [00:01<00:00,  1.13s/it]100 [01:47<00:33,  1.50s/it]\n",
      "100%|██████████| 1/1 [00:01<00:00,  1.34s/it]100 [01:48<00:29,  1.39s/it]\n",
      "100%|██████████| 1/1 [00:01<00:00,  1.32s/it]100 [01:49<00:27,  1.38s/it]\n",
      "100%|██████████| 1/1 [00:00<00:00,  1.07it/s]100 [01:51<00:25,  1.36s/it]\n",
      "100%|██████████| 1/1 [00:01<00:00,  1.04s/it]100 [01:52<00:22,  1.23s/it]\n",
      "100%|██████████| 1/1 [00:01<00:00,  1.10s/it]100 [01:53<00:19,  1.17s/it]\n",
      "100%|██████████| 1/1 [00:01<00:00,  1.59s/it]100 [01:54<00:18,  1.15s/it]\n",
      "100%|██████████| 1/1 [00:01<00:00,  1.51s/it]100 [01:55<00:19,  1.28s/it]\n",
      "100%|██████████| 1/1 [00:01<00:00,  1.33s/it]100 [01:57<00:18,  1.35s/it]\n",
      "100%|██████████| 1/1 [00:00<00:00,  1.53it/s]100 [01:58<00:17,  1.35s/it]\n",
      "100%|██████████| 1/1 [00:01<00:00,  1.06s/it]100 [01:59<00:13,  1.14s/it]\n",
      "100%|██████████| 1/1 [00:01<00:00,  1.24s/it]100 [02:00<00:12,  1.12s/it]\n",
      "100%|██████████| 1/1 [00:01<00:00,  1.40s/it]100 [02:01<00:11,  1.16s/it]\n",
      "100%|██████████| 1/1 [00:00<00:00,  1.06it/s]100 [02:02<00:11,  1.23s/it]\n",
      "100%|██████████| 1/1 [00:01<00:00,  1.60s/it]100 [02:03<00:09,  1.15s/it]\n",
      "100%|██████████| 1/1 [00:01<00:00,  1.17s/it]100 [02:05<00:08,  1.28s/it]\n",
      "100%|██████████| 1/1 [00:00<00:00,  1.74it/s]100 [02:06<00:07,  1.25s/it]\n",
      "100%|██████████| 1/1 [00:01<00:00,  1.64s/it]100 [02:07<00:05,  1.05s/it]\n",
      "100%|██████████| 1/1 [00:01<00:00,  1.20s/it]100 [02:08<00:04,  1.23s/it]\n",
      "100%|██████████| 1/1 [00:01<00:00,  1.24s/it]100 [02:10<00:03,  1.22s/it]\n",
      "100%|██████████| 1/1 [00:00<00:00,  1.45it/s]100 [02:11<00:02,  1.23s/it]\n",
      "100%|██████████| 1/1 [00:01<00:00,  1.64s/it]100 [02:12<00:01,  1.07s/it]\n",
      "Generating molecules...: 100%|██████████| 100/100 [02:13<00:00,  1.34s/it]\n",
      "RDKit ERROR: [14:36:26] SMILES Parse Error: unclosed ring for input: 'c1ccc(OCCCSc2nc3c(cn2)cc1-c2ccc(Cl)cc2C(=O)N3)cn1'\n",
      "RDKit ERROR: [14:36:26] SMILES Parse Error: unclosed ring for input: 'Nc1nc(Cn2cnc(C(F)(F)F)n2)cn2cc3c(CCCC(=O)NCCN4CCCCC4)nc3ccccc3c12'\n",
      "[14:36:26] SMILES Parse Error: unclosed ring for input: 'c1ccc(OCCCSc2nc3c(cn2)cc1-c2ccc(Cl)cc2C(=O)N3)cn1'\n",
      "RDKit ERROR: [14:36:26] SMILES Parse Error: extra close parentheses while parsing: O=C1c2cccc3c2OCCO3C)N1CC1CCC1\n",
      "[14:36:26] SMILES Parse Error: unclosed ring for input: 'Nc1nc(Cn2cnc(C(F)(F)F)n2)cn2cc3c(CCCC(=O)NCCN4CCCCC4)nc3ccccc3c12'\n",
      "[14:36:26] SMILES Parse Error: extra close parentheses while parsing: O=C1c2cccc3c2OCCO3C)N1CC1CCC1\n",
      "RDKit ERROR: [14:36:26] SMILES Parse Error: Failed parsing SMILES 'O=C1c2cccc3c2OCCO3C)N1CC1CCC1' for input: 'O=C1c2cccc3c2OCCO3C)N1CC1CCC1'\n",
      "RDKit ERROR: [14:36:26] Explicit valence for atom # 7 O, 3, is greater than permitted\n",
      "RDKit ERROR: [14:36:26] Can't kekulize mol.  Unkekulized atoms: 1 2 4 5 6 7 8 9 10\n",
      "[14:36:26] SMILES Parse Error: Failed parsing SMILES 'O=C1c2cccc3c2OCCO3C)N1CC1CCC1' for input: 'O=C1c2cccc3c2OCCO3C)N1CC1CCC1'\n",
      "RDKit ERROR: \n",
      "RDKit ERROR: [14:36:26] Explicit valence for atom # 13 N, 4, is greater than permitted\n",
      "RDKit ERROR: [14:36:26] Can't kekulize mol.  Unkekulized atoms: 1 2 3 4 5 6 7 8 9 10 11 12 14\n",
      "RDKit ERROR: \n",
      "RDKit ERROR: [14:36:26] Can't kekulize mol.  Unkekulized atoms: 2 3 34\n",
      "RDKit ERROR: \n",
      "[14:36:26] Explicit valence for atom # 7 O, 3, is greater than permitted\n",
      "[14:36:26] Can't kekulize mol.  Unkekulized atoms: 1 2 4 5 6 7 8 9 10\n",
      "\n",
      "[14:36:26] Explicit valence for atom # 13 N, 4, is greater than permitted\n",
      "[14:36:26] Can't kekulize mol.  Unkekulized atoms: 1 2 3 4 5 6 7 8 9 10 11 12 14\n",
      "\n",
      "[14:36:26] Can't kekulize mol.  Unkekulized atoms: 2 3 34\n",
      "\n"
     ]
    },
    {
     "name": "stdout",
     "output_type": "stream",
     "text": [
      "Proportion of valid SMILES: 0.97\n",
      "Max QED:  0.9289317879429615\n",
      "Mean QED:  0.6735358956046984\n",
      "Min QED:  0.14205890913285715\n"
     ]
    },
    {
     "data": {
      "image/png": "[encoded data removed]",
      "text/plain": [
       "<Figure size 432x288 with 1 Axes>"
      ]
     },
     "metadata": {
      "needs_background": "light"
     },
     "output_type": "display_data"
    },
    {
     "name": "stdout",
     "output_type": "stream",
     "text": [
      "\n",
      " --------- Updated model LOADED! ---------\n"
     ]
    },
    {
     "name": "stderr",
     "output_type": "stream",
     "text": [
      "100%|██████████| 1/1 [00:01<00:00,  1.07s/it]00 [00:00<?, ?it/s]\n",
      "100%|██████████| 1/1 [00:01<00:00,  1.08s/it]00 [00:01<01:45,  1.07s/it]\n",
      "100%|██████████| 1/1 [00:01<00:00,  1.07s/it]00 [00:02<01:45,  1.07s/it]\n",
      "100%|██████████| 1/1 [00:01<00:00,  1.05s/it]00 [00:03<01:43,  1.07s/it]\n",
      "100%|██████████| 1/1 [00:01<00:00,  1.05s/it]00 [00:04<01:42,  1.07s/it]\n",
      "100%|██████████| 1/1 [00:01<00:00,  1.05s/it]00 [00:05<01:40,  1.06s/it]\n",
      "100%|██████████| 1/1 [00:01<00:00,  1.01s/it]00 [00:06<01:39,  1.06s/it]\n",
      "100%|██████████| 1/1 [00:00<00:00,  1.21it/s]00 [00:07<01:37,  1.04s/it]\n",
      "100%|██████████| 1/1 [00:01<00:00,  1.01s/it]00 [00:08<01:29,  1.03it/s]\n",
      "100%|██████████| 1/1 [00:00<00:00,  1.01it/s]00 [00:09<01:29,  1.01it/s]\n",
      "100%|██████████| 1/1 [00:01<00:00,  1.00s/it]100 [00:10<01:28,  1.01it/s]\n",
      "100%|██████████| 1/1 [00:00<00:00,  1.02it/s]100 [00:11<01:28,  1.01it/s]\n",
      "100%|██████████| 1/1 [00:00<00:00,  1.02it/s]100 [00:12<01:27,  1.01it/s]\n",
      "100%|██████████| 1/1 [00:00<00:00,  1.03it/s]100 [00:13<01:25,  1.01it/s]\n",
      "100%|██████████| 1/1 [00:00<00:00,  1.05it/s]100 [00:14<01:24,  1.02it/s]\n",
      "100%|██████████| 1/1 [00:00<00:00,  1.74it/s]100 [00:15<01:22,  1.02it/s]\n",
      "100%|██████████| 1/1 [00:00<00:00,  1.06it/s]100 [00:15<01:11,  1.17it/s]\n",
      "100%|██████████| 1/1 [00:00<00:00,  1.07it/s]100 [00:16<01:13,  1.13it/s]\n",
      "100%|██████████| 1/1 [00:00<00:00,  1.09it/s]100 [00:17<01:13,  1.11it/s]\n",
      "100%|██████████| 1/1 [00:00<00:00,  1.09it/s]100 [00:18<01:13,  1.10it/s]\n",
      "100%|██████████| 1/1 [00:00<00:00,  1.61it/s]100 [00:19<01:12,  1.10it/s]\n",
      "100%|██████████| 1/1 [00:00<00:00,  1.10it/s]100 [00:20<01:05,  1.21it/s]\n",
      "100%|██████████| 1/1 [00:00<00:00,  1.09it/s]100 [00:20<01:06,  1.18it/s]\n",
      "100%|██████████| 1/1 [00:00<00:00,  1.10it/s]100 [00:21<01:07,  1.15it/s]\n",
      "100%|██████████| 1/1 [00:00<00:00,  1.10it/s]100 [00:22<01:07,  1.13it/s]\n",
      "100%|██████████| 1/1 [00:00<00:00,  1.35it/s]100 [00:23<01:07,  1.12it/s]\n",
      "100%|██████████| 1/1 [00:00<00:00,  1.08it/s]100 [00:24<01:02,  1.18it/s]\n",
      "100%|██████████| 1/1 [00:00<00:00,  1.06it/s]100 [00:25<01:03,  1.15it/s]\n",
      "100%|██████████| 1/1 [00:00<00:00,  1.09it/s]100 [00:26<01:04,  1.12it/s]\n",
      "100%|██████████| 1/1 [00:00<00:00,  1.11it/s]100 [00:27<01:03,  1.11it/s]\n",
      "  0%|          | 0/1 [00:00<?, ?it/s]   | 30/100 [00:28<01:03,  1.11it/s]\n",
      "Generating molecules...:  30%|███       | 30/100 [00:28<01:06,  1.06it/s]\n"
     ]
    },
    {
     "ename": "KeyboardInterrupt",
     "evalue": "",
     "output_type": "error",
     "traceback": [
      "\u001b[0;31m---------------------------------------------------------------------------\u001b[0m",
      "\u001b[0;31mKeyboardInterrupt\u001b[0m                         Traceback (most recent call last)",
      "\u001b[0;32m/tmp/ipykernel_20913/3017488364.py\u001b[0m in \u001b[0;36m<module>\u001b[0;34m\u001b[0m\n\u001b[1;32m      3\u001b[0m \u001b[0;32mfor\u001b[0m \u001b[0mk\u001b[0m \u001b[0;32min\u001b[0m \u001b[0mrange\u001b[0m\u001b[0;34m(\u001b[0m\u001b[0;36m20\u001b[0m\u001b[0;34m)\u001b[0m\u001b[0;34m:\u001b[0m\u001b[0;34m\u001b[0m\u001b[0;34m\u001b[0m\u001b[0m\n\u001b[1;32m      4\u001b[0m     \u001b[0mprint\u001b[0m\u001b[0;34m(\u001b[0m\u001b[0;34m\"BIASED GENERATION: \"\u001b[0m \u001b[0;34m+\u001b[0m \u001b[0mstr\u001b[0m\u001b[0;34m(\u001b[0m\u001b[0mk\u001b[0m\u001b[0;34m)\u001b[0m\u001b[0;34m)\u001b[0m\u001b[0;34m\u001b[0m\u001b[0;34m\u001b[0m\u001b[0m\n\u001b[0;32m----> 5\u001b[0;31m     \u001b[0mdif\u001b[0m\u001b[0;34m,\u001b[0m\u001b[0mdiv\u001b[0m\u001b[0;34m,\u001b[0m\u001b[0mvalid\u001b[0m\u001b[0;34m,\u001b[0m\u001b[0mperc_uniq\u001b[0m\u001b[0;34m,\u001b[0m\u001b[0mperc_desirable\u001b[0m \u001b[0;34m=\u001b[0m \u001b[0mRL_obj\u001b[0m\u001b[0;34m.\u001b[0m\u001b[0mcompare_models\u001b[0m\u001b[0;34m(\u001b[0m\u001b[0mconfigReinforce\u001b[0m\u001b[0;34m.\u001b[0m\u001b[0mn_to_generate\u001b[0m\u001b[0;34m,\u001b[0m\u001b[0;32mTrue\u001b[0m\u001b[0;34m)\u001b[0m\u001b[0;34m\u001b[0m\u001b[0;34m\u001b[0m\u001b[0m\n\u001b[0m\u001b[1;32m      6\u001b[0m     \u001b[0mdifs\u001b[0m\u001b[0;34m.\u001b[0m\u001b[0mappend\u001b[0m\u001b[0;34m(\u001b[0m\u001b[0mdif\u001b[0m\u001b[0;34m)\u001b[0m\u001b[0;34m\u001b[0m\u001b[0;34m\u001b[0m\u001b[0m\n\u001b[1;32m      7\u001b[0m     \u001b[0mdivs\u001b[0m\u001b[0;34m.\u001b[0m\u001b[0mappend\u001b[0m\u001b[0;34m(\u001b[0m\u001b[0mdiv\u001b[0m\u001b[0;34m)\u001b[0m\u001b[0;34m\u001b[0m\u001b[0;34m\u001b[0m\u001b[0m\n",
      "\u001b[0;32m~/documentos/DiverseDRL/reinforce.py\u001b[0m in \u001b[0;36mcompare_models\u001b[0;34m(self, n_to_generate, individual_plot)\u001b[0m\n\u001b[1;32m    374\u001b[0m             \u001b[0mpbar\u001b[0m\u001b[0;34m.\u001b[0m\u001b[0mset_description\u001b[0m\u001b[0;34m(\u001b[0m\u001b[0;34m\"Generating molecules...\"\u001b[0m\u001b[0;34m)\u001b[0m\u001b[0;34m\u001b[0m\u001b[0;34m\u001b[0m\u001b[0m\n\u001b[1;32m    375\u001b[0m             \u001b[0mpredictSMILES\u001b[0m \u001b[0;34m=\u001b[0m \u001b[0mPredictSMILES\u001b[0m\u001b[0;34m(\u001b[0m\u001b[0mself\u001b[0m\u001b[0;34m.\u001b[0m\u001b[0mgenerator\u001b[0m\u001b[0;34m,\u001b[0m\u001b[0;32mNone\u001b[0m\u001b[0;34m,\u001b[0m\u001b[0;32mFalse\u001b[0m\u001b[0;34m,\u001b[0m\u001b[0mself\u001b[0m\u001b[0;34m.\u001b[0m\u001b[0mthreshold_greedy\u001b[0m\u001b[0;34m,\u001b[0m\u001b[0mself\u001b[0m\u001b[0;34m.\u001b[0m\u001b[0mconfigReinforce\u001b[0m\u001b[0;34m)\u001b[0m\u001b[0;34m\u001b[0m\u001b[0;34m\u001b[0m\u001b[0m\n\u001b[0;32m--> 376\u001b[0;31m             \u001b[0mgenerated_b\u001b[0m\u001b[0;34m.\u001b[0m\u001b[0mappend\u001b[0m\u001b[0;34m(\u001b[0m\u001b[0mpredictSMILES\u001b[0m\u001b[0;34m.\u001b[0m\u001b[0msample\u001b[0m\u001b[0;34m(\u001b[0m\u001b[0;34m)\u001b[0m\u001b[0;34m)\u001b[0m\u001b[0;34m\u001b[0m\u001b[0;34m\u001b[0m\u001b[0m\n\u001b[0m\u001b[1;32m    377\u001b[0m \u001b[0;34m\u001b[0m\u001b[0m\n\u001b[1;32m    378\u001b[0m         \u001b[0msanitized_b\u001b[0m\u001b[0;34m,\u001b[0m\u001b[0mvalid_b\u001b[0m \u001b[0;34m=\u001b[0m \u001b[0mcanonical_smiles\u001b[0m\u001b[0;34m(\u001b[0m\u001b[0mgenerated_b\u001b[0m\u001b[0;34m,\u001b[0m \u001b[0msanitize\u001b[0m\u001b[0;34m=\u001b[0m\u001b[0;32mFalse\u001b[0m\u001b[0;34m,\u001b[0m \u001b[0mthrow_warning\u001b[0m\u001b[0;34m=\u001b[0m\u001b[0;32mFalse\u001b[0m\u001b[0;34m)\u001b[0m \u001b[0;31m# validar\u001b[0m\u001b[0;34m\u001b[0m\u001b[0;34m\u001b[0m\u001b[0m\n",
      "\u001b[0;32m~/documentos/DiverseDRL/predictSMILES.py\u001b[0m in \u001b[0;36msample\u001b[0;34m(self, num, minlen, maxlen, start)\u001b[0m\n\u001b[1;32m     80\u001b[0m                         \u001b[0mpreds\u001b[0m \u001b[0;34m=\u001b[0m \u001b[0mself\u001b[0m\u001b[0;34m.\u001b[0m\u001b[0mmodel_biased\u001b[0m\u001b[0;34m.\u001b[0m\u001b[0mmodel\u001b[0m\u001b[0;34m.\u001b[0m\u001b[0mpredict\u001b[0m\u001b[0;34m(\u001b[0m\u001b[0mx\u001b[0m\u001b[0;34m)\u001b[0m\u001b[0;34m[\u001b[0m\u001b[0;36m0\u001b[0m\u001b[0;34m]\u001b[0m\u001b[0;34m[\u001b[0m\u001b[0;34m-\u001b[0m\u001b[0;36m1\u001b[0m\u001b[0;34m]\u001b[0m\u001b[0;34m\u001b[0m\u001b[0;34m\u001b[0m\u001b[0m\n\u001b[1;32m     81\u001b[0m                 \u001b[0;32melse\u001b[0m\u001b[0;34m:\u001b[0m\u001b[0;34m\u001b[0m\u001b[0;34m\u001b[0m\u001b[0m\n\u001b[0;32m---> 82\u001b[0;31m                     \u001b[0mpreds\u001b[0m \u001b[0;34m=\u001b[0m \u001b[0mself\u001b[0m\u001b[0;34m.\u001b[0m\u001b[0mmodel_unbiased\u001b[0m\u001b[0;34m.\u001b[0m\u001b[0mmodel\u001b[0m\u001b[0;34m.\u001b[0m\u001b[0mpredict\u001b[0m\u001b[0;34m(\u001b[0m\u001b[0mx\u001b[0m\u001b[0;34m)\u001b[0m\u001b[0;34m[\u001b[0m\u001b[0;36m0\u001b[0m\u001b[0;34m]\u001b[0m\u001b[0;34m[\u001b[0m\u001b[0;34m-\u001b[0m\u001b[0;36m1\u001b[0m\u001b[0;34m]\u001b[0m\u001b[0;34m\u001b[0m\u001b[0;34m\u001b[0m\u001b[0m\n\u001b[0m\u001b[1;32m     83\u001b[0m \u001b[0;34m\u001b[0m\u001b[0m\n\u001b[1;32m     84\u001b[0m                 \u001b[0mnext_a\u001b[0m \u001b[0;34m=\u001b[0m \u001b[0mself\u001b[0m\u001b[0;34m.\u001b[0m\u001b[0msample_with_temp\u001b[0m\u001b[0;34m(\u001b[0m\u001b[0mpreds\u001b[0m\u001b[0;34m)\u001b[0m\u001b[0;34m\u001b[0m\u001b[0;34m\u001b[0m\u001b[0m\n",
      "\u001b[0;32m~/anaconda3/envs/diversedrl/lib/python3.7/site-packages/keras/utils/traceback_utils.py\u001b[0m in \u001b[0;36merror_handler\u001b[0;34m(*args, **kwargs)\u001b[0m\n\u001b[1;32m     62\u001b[0m     \u001b[0mfiltered_tb\u001b[0m \u001b[0;34m=\u001b[0m \u001b[0;32mNone\u001b[0m\u001b[0;34m\u001b[0m\u001b[0;34m\u001b[0m\u001b[0m\n\u001b[1;32m     63\u001b[0m     \u001b[0;32mtry\u001b[0m\u001b[0;34m:\u001b[0m\u001b[0;34m\u001b[0m\u001b[0;34m\u001b[0m\u001b[0m\n\u001b[0;32m---> 64\u001b[0;31m       \u001b[0;32mreturn\u001b[0m \u001b[0mfn\u001b[0m\u001b[0;34m(\u001b[0m\u001b[0;34m*\u001b[0m\u001b[0margs\u001b[0m\u001b[0;34m,\u001b[0m \u001b[0;34m**\u001b[0m\u001b[0mkwargs\u001b[0m\u001b[0;34m)\u001b[0m\u001b[0;34m\u001b[0m\u001b[0;34m\u001b[0m\u001b[0m\n\u001b[0m\u001b[1;32m     65\u001b[0m     \u001b[0;32mexcept\u001b[0m \u001b[0mException\u001b[0m \u001b[0;32mas\u001b[0m \u001b[0me\u001b[0m\u001b[0;34m:\u001b[0m  \u001b[0;31m# pylint: disable=broad-except\u001b[0m\u001b[0;34m\u001b[0m\u001b[0;34m\u001b[0m\u001b[0m\n\u001b[1;32m     66\u001b[0m       \u001b[0mfiltered_tb\u001b[0m \u001b[0;34m=\u001b[0m \u001b[0m_process_traceback_frames\u001b[0m\u001b[0;34m(\u001b[0m\u001b[0me\u001b[0m\u001b[0;34m.\u001b[0m\u001b[0m__traceback__\u001b[0m\u001b[0;34m)\u001b[0m\u001b[0;34m\u001b[0m\u001b[0;34m\u001b[0m\u001b[0m\n",
      "\u001b[0;32m~/anaconda3/envs/diversedrl/lib/python3.7/site-packages/keras/engine/training.py\u001b[0m in \u001b[0;36mpredict\u001b[0;34m(self, x, batch_size, verbose, steps, callbacks, max_queue_size, workers, use_multiprocessing)\u001b[0m\n\u001b[1;32m   1959\u001b[0m           \u001b[0muse_multiprocessing\u001b[0m\u001b[0;34m=\u001b[0m\u001b[0muse_multiprocessing\u001b[0m\u001b[0;34m,\u001b[0m\u001b[0;34m\u001b[0m\u001b[0;34m\u001b[0m\u001b[0m\n\u001b[1;32m   1960\u001b[0m           \u001b[0mmodel\u001b[0m\u001b[0;34m=\u001b[0m\u001b[0mself\u001b[0m\u001b[0;34m,\u001b[0m\u001b[0;34m\u001b[0m\u001b[0;34m\u001b[0m\u001b[0m\n\u001b[0;32m-> 1961\u001b[0;31m           steps_per_execution=self._steps_per_execution)\n\u001b[0m\u001b[1;32m   1962\u001b[0m \u001b[0;34m\u001b[0m\u001b[0m\n\u001b[1;32m   1963\u001b[0m       \u001b[0;31m# Container that configures and calls `tf.keras.Callback`s.\u001b[0m\u001b[0;34m\u001b[0m\u001b[0;34m\u001b[0m\u001b[0;34m\u001b[0m\u001b[0m\n",
      "\u001b[0;32m~/anaconda3/envs/diversedrl/lib/python3.7/site-packages/keras/engine/data_adapter.py\u001b[0m in \u001b[0;36mget_data_handler\u001b[0;34m(*args, **kwargs)\u001b[0m\n\u001b[1;32m   1397\u001b[0m   \u001b[0;32mif\u001b[0m \u001b[0mgetattr\u001b[0m\u001b[0;34m(\u001b[0m\u001b[0mkwargs\u001b[0m\u001b[0;34m[\u001b[0m\u001b[0;34m\"model\"\u001b[0m\u001b[0;34m]\u001b[0m\u001b[0;34m,\u001b[0m \u001b[0;34m\"_cluster_coordinator\"\u001b[0m\u001b[0;34m,\u001b[0m \u001b[0;32mNone\u001b[0m\u001b[0;34m)\u001b[0m\u001b[0;34m:\u001b[0m\u001b[0;34m\u001b[0m\u001b[0;34m\u001b[0m\u001b[0m\n\u001b[1;32m   1398\u001b[0m     \u001b[0;32mreturn\u001b[0m \u001b[0m_ClusterCoordinatorDataHandler\u001b[0m\u001b[0;34m(\u001b[0m\u001b[0;34m*\u001b[0m\u001b[0margs\u001b[0m\u001b[0;34m,\u001b[0m \u001b[0;34m**\u001b[0m\u001b[0mkwargs\u001b[0m\u001b[0;34m)\u001b[0m\u001b[0;34m\u001b[0m\u001b[0;34m\u001b[0m\u001b[0m\n\u001b[0;32m-> 1399\u001b[0;31m   \u001b[0;32mreturn\u001b[0m \u001b[0mDataHandler\u001b[0m\u001b[0;34m(\u001b[0m\u001b[0;34m*\u001b[0m\u001b[0margs\u001b[0m\u001b[0;34m,\u001b[0m \u001b[0;34m**\u001b[0m\u001b[0mkwargs\u001b[0m\u001b[0;34m)\u001b[0m\u001b[0;34m\u001b[0m\u001b[0;34m\u001b[0m\u001b[0m\n\u001b[0m\u001b[1;32m   1400\u001b[0m \u001b[0;34m\u001b[0m\u001b[0m\n\u001b[1;32m   1401\u001b[0m \u001b[0;34m\u001b[0m\u001b[0m\n",
      "\u001b[0;32m~/anaconda3/envs/diversedrl/lib/python3.7/site-packages/keras/engine/data_adapter.py\u001b[0m in \u001b[0;36m__init__\u001b[0;34m(self, x, y, sample_weight, batch_size, steps_per_epoch, initial_epoch, epochs, shuffle, class_weight, max_queue_size, workers, use_multiprocessing, model, steps_per_execution, distribute)\u001b[0m\n\u001b[1;32m   1159\u001b[0m         \u001b[0muse_multiprocessing\u001b[0m\u001b[0;34m=\u001b[0m\u001b[0muse_multiprocessing\u001b[0m\u001b[0;34m,\u001b[0m\u001b[0;34m\u001b[0m\u001b[0;34m\u001b[0m\u001b[0m\n\u001b[1;32m   1160\u001b[0m         \u001b[0mdistribution_strategy\u001b[0m\u001b[0;34m=\u001b[0m\u001b[0mtf\u001b[0m\u001b[0;34m.\u001b[0m\u001b[0mdistribute\u001b[0m\u001b[0;34m.\u001b[0m\u001b[0mget_strategy\u001b[0m\u001b[0;34m(\u001b[0m\u001b[0;34m)\u001b[0m\u001b[0;34m,\u001b[0m\u001b[0;34m\u001b[0m\u001b[0;34m\u001b[0m\u001b[0m\n\u001b[0;32m-> 1161\u001b[0;31m         model=model)\n\u001b[0m\u001b[1;32m   1162\u001b[0m \u001b[0;34m\u001b[0m\u001b[0m\n\u001b[1;32m   1163\u001b[0m     \u001b[0mstrategy\u001b[0m \u001b[0;34m=\u001b[0m \u001b[0mtf\u001b[0m\u001b[0;34m.\u001b[0m\u001b[0mdistribute\u001b[0m\u001b[0;34m.\u001b[0m\u001b[0mget_strategy\u001b[0m\u001b[0;34m(\u001b[0m\u001b[0;34m)\u001b[0m\u001b[0;34m\u001b[0m\u001b[0;34m\u001b[0m\u001b[0m\n",
      "\u001b[0;32m~/anaconda3/envs/diversedrl/lib/python3.7/site-packages/keras/engine/data_adapter.py\u001b[0m in \u001b[0;36m__init__\u001b[0;34m(self, x, y, sample_weights, sample_weight_modes, batch_size, epochs, steps, shuffle, **kwargs)\u001b[0m\n\u001b[1;32m    324\u001b[0m       \u001b[0;32mreturn\u001b[0m \u001b[0mflat_dataset\u001b[0m\u001b[0;34m\u001b[0m\u001b[0;34m\u001b[0m\u001b[0m\n\u001b[1;32m    325\u001b[0m \u001b[0;34m\u001b[0m\u001b[0m\n\u001b[0;32m--> 326\u001b[0;31m     \u001b[0mindices_dataset\u001b[0m \u001b[0;34m=\u001b[0m \u001b[0mindices_dataset\u001b[0m\u001b[0;34m.\u001b[0m\u001b[0mflat_map\u001b[0m\u001b[0;34m(\u001b[0m\u001b[0mslice_batch_indices\u001b[0m\u001b[0;34m)\u001b[0m\u001b[0;34m\u001b[0m\u001b[0;34m\u001b[0m\u001b[0m\n\u001b[0m\u001b[1;32m    327\u001b[0m \u001b[0;34m\u001b[0m\u001b[0m\n\u001b[1;32m    328\u001b[0m     \u001b[0mdataset\u001b[0m \u001b[0;34m=\u001b[0m \u001b[0mself\u001b[0m\u001b[0;34m.\u001b[0m\u001b[0mslice_inputs\u001b[0m\u001b[0;34m(\u001b[0m\u001b[0mindices_dataset\u001b[0m\u001b[0;34m,\u001b[0m \u001b[0minputs\u001b[0m\u001b[0;34m)\u001b[0m\u001b[0;34m\u001b[0m\u001b[0;34m\u001b[0m\u001b[0m\n",
      "\u001b[0;32m~/anaconda3/envs/diversedrl/lib/python3.7/site-packages/tensorflow/python/data/ops/dataset_ops.py\u001b[0m in \u001b[0;36mflat_map\u001b[0;34m(self, map_func, name)\u001b[0m\n\u001b[1;32m   2058\u001b[0m       \u001b[0mDataset\u001b[0m\u001b[0;34m:\u001b[0m \u001b[0mA\u001b[0m\u001b[0;31m \u001b[0m\u001b[0;31m`\u001b[0m\u001b[0mDataset\u001b[0m\u001b[0;31m`\u001b[0m\u001b[0;34m.\u001b[0m\u001b[0;34m\u001b[0m\u001b[0;34m\u001b[0m\u001b[0m\n\u001b[1;32m   2059\u001b[0m     \"\"\"\n\u001b[0;32m-> 2060\u001b[0;31m     \u001b[0;32mreturn\u001b[0m \u001b[0mFlatMapDataset\u001b[0m\u001b[0;34m(\u001b[0m\u001b[0mself\u001b[0m\u001b[0;34m,\u001b[0m \u001b[0mmap_func\u001b[0m\u001b[0;34m,\u001b[0m \u001b[0mname\u001b[0m\u001b[0;34m=\u001b[0m\u001b[0mname\u001b[0m\u001b[0;34m)\u001b[0m\u001b[0;34m\u001b[0m\u001b[0;34m\u001b[0m\u001b[0m\n\u001b[0m\u001b[1;32m   2061\u001b[0m \u001b[0;34m\u001b[0m\u001b[0m\n\u001b[1;32m   2062\u001b[0m   def interleave(self,\n",
      "\u001b[0;32m~/anaconda3/envs/diversedrl/lib/python3.7/site-packages/tensorflow/python/data/ops/dataset_ops.py\u001b[0m in \u001b[0;36m__init__\u001b[0;34m(self, input_dataset, map_func, name)\u001b[0m\n\u001b[1;32m   5278\u001b[0m     \u001b[0mself\u001b[0m\u001b[0;34m.\u001b[0m\u001b[0m_input_dataset\u001b[0m \u001b[0;34m=\u001b[0m \u001b[0minput_dataset\u001b[0m\u001b[0;34m\u001b[0m\u001b[0;34m\u001b[0m\u001b[0m\n\u001b[1;32m   5279\u001b[0m     self._map_func = structured_function.StructuredFunctionWrapper(\n\u001b[0;32m-> 5280\u001b[0;31m         map_func, self._transformation_name(), dataset=input_dataset)\n\u001b[0m\u001b[1;32m   5281\u001b[0m     \u001b[0;32mif\u001b[0m \u001b[0;32mnot\u001b[0m \u001b[0misinstance\u001b[0m\u001b[0;34m(\u001b[0m\u001b[0mself\u001b[0m\u001b[0;34m.\u001b[0m\u001b[0m_map_func\u001b[0m\u001b[0;34m.\u001b[0m\u001b[0moutput_structure\u001b[0m\u001b[0;34m,\u001b[0m \u001b[0mDatasetSpec\u001b[0m\u001b[0;34m)\u001b[0m\u001b[0;34m:\u001b[0m\u001b[0;34m\u001b[0m\u001b[0;34m\u001b[0m\u001b[0m\n\u001b[1;32m   5282\u001b[0m       raise TypeError(\n",
      "\u001b[0;32m~/anaconda3/envs/diversedrl/lib/python3.7/site-packages/tensorflow/python/data/ops/structured_function.py\u001b[0m in \u001b[0;36m__init__\u001b[0;34m(self, func, transformation_name, dataset, input_classes, input_shapes, input_types, input_structure, add_to_graph, use_legacy_function, defun_kwargs)\u001b[0m\n\u001b[1;32m    269\u001b[0m         \u001b[0mfn_factory\u001b[0m \u001b[0;34m=\u001b[0m \u001b[0mtrace_tf_function\u001b[0m\u001b[0;34m(\u001b[0m\u001b[0mdefun_kwargs\u001b[0m\u001b[0;34m)\u001b[0m\u001b[0;34m\u001b[0m\u001b[0;34m\u001b[0m\u001b[0m\n\u001b[1;32m    270\u001b[0m \u001b[0;34m\u001b[0m\u001b[0m\n\u001b[0;32m--> 271\u001b[0;31m     \u001b[0mself\u001b[0m\u001b[0;34m.\u001b[0m\u001b[0m_function\u001b[0m \u001b[0;34m=\u001b[0m \u001b[0mfn_factory\u001b[0m\u001b[0;34m(\u001b[0m\u001b[0;34m)\u001b[0m\u001b[0;34m\u001b[0m\u001b[0;34m\u001b[0m\u001b[0m\n\u001b[0m\u001b[1;32m    272\u001b[0m     \u001b[0;31m# There is no graph to add in eager mode.\u001b[0m\u001b[0;34m\u001b[0m\u001b[0;34m\u001b[0m\u001b[0;34m\u001b[0m\u001b[0m\n\u001b[1;32m    273\u001b[0m     \u001b[0madd_to_graph\u001b[0m \u001b[0;34m&=\u001b[0m \u001b[0;32mnot\u001b[0m \u001b[0mcontext\u001b[0m\u001b[0;34m.\u001b[0m\u001b[0mexecuting_eagerly\u001b[0m\u001b[0;34m(\u001b[0m\u001b[0;34m)\u001b[0m\u001b[0;34m\u001b[0m\u001b[0;34m\u001b[0m\u001b[0m\n",
      "\u001b[0;32m~/anaconda3/envs/diversedrl/lib/python3.7/site-packages/tensorflow/python/eager/function.py\u001b[0m in \u001b[0;36mget_concrete_function\u001b[0;34m(self, *args, **kwargs)\u001b[0m\n\u001b[1;32m   3069\u001b[0m     \"\"\"\n\u001b[1;32m   3070\u001b[0m     graph_function = self._get_concrete_function_garbage_collected(\n\u001b[0;32m-> 3071\u001b[0;31m         *args, **kwargs)\n\u001b[0m\u001b[1;32m   3072\u001b[0m     \u001b[0mgraph_function\u001b[0m\u001b[0;34m.\u001b[0m\u001b[0m_garbage_collector\u001b[0m\u001b[0;34m.\u001b[0m\u001b[0mrelease\u001b[0m\u001b[0;34m(\u001b[0m\u001b[0;34m)\u001b[0m  \u001b[0;31m# pylint: disable=protected-access\u001b[0m\u001b[0;34m\u001b[0m\u001b[0;34m\u001b[0m\u001b[0m\n\u001b[1;32m   3073\u001b[0m     \u001b[0;32mreturn\u001b[0m \u001b[0mgraph_function\u001b[0m\u001b[0;34m\u001b[0m\u001b[0;34m\u001b[0m\u001b[0m\n",
      "\u001b[0;32m~/anaconda3/envs/diversedrl/lib/python3.7/site-packages/tensorflow/python/eager/function.py\u001b[0m in \u001b[0;36m_get_concrete_function_garbage_collected\u001b[0;34m(self, *args, **kwargs)\u001b[0m\n\u001b[1;32m   3034\u001b[0m       \u001b[0margs\u001b[0m\u001b[0;34m,\u001b[0m \u001b[0mkwargs\u001b[0m \u001b[0;34m=\u001b[0m \u001b[0;32mNone\u001b[0m\u001b[0;34m,\u001b[0m \u001b[0;32mNone\u001b[0m\u001b[0;34m\u001b[0m\u001b[0;34m\u001b[0m\u001b[0m\n\u001b[1;32m   3035\u001b[0m     \u001b[0;32mwith\u001b[0m \u001b[0mself\u001b[0m\u001b[0;34m.\u001b[0m\u001b[0m_lock\u001b[0m\u001b[0;34m:\u001b[0m\u001b[0;34m\u001b[0m\u001b[0;34m\u001b[0m\u001b[0m\n\u001b[0;32m-> 3036\u001b[0;31m       \u001b[0mgraph_function\u001b[0m\u001b[0;34m,\u001b[0m \u001b[0m_\u001b[0m \u001b[0;34m=\u001b[0m \u001b[0mself\u001b[0m\u001b[0;34m.\u001b[0m\u001b[0m_maybe_define_function\u001b[0m\u001b[0;34m(\u001b[0m\u001b[0margs\u001b[0m\u001b[0;34m,\u001b[0m \u001b[0mkwargs\u001b[0m\u001b[0;34m)\u001b[0m\u001b[0;34m\u001b[0m\u001b[0;34m\u001b[0m\u001b[0m\n\u001b[0m\u001b[1;32m   3037\u001b[0m       \u001b[0mseen_names\u001b[0m \u001b[0;34m=\u001b[0m \u001b[0mset\u001b[0m\u001b[0;34m(\u001b[0m\u001b[0;34m)\u001b[0m\u001b[0;34m\u001b[0m\u001b[0;34m\u001b[0m\u001b[0m\n\u001b[1;32m   3038\u001b[0m       captured = object_identity.ObjectIdentitySet(\n",
      "\u001b[0;32m~/anaconda3/envs/diversedrl/lib/python3.7/site-packages/tensorflow/python/eager/function.py\u001b[0m in \u001b[0;36m_maybe_define_function\u001b[0;34m(self, args, kwargs)\u001b[0m\n\u001b[1;32m   3290\u001b[0m \u001b[0;34m\u001b[0m\u001b[0m\n\u001b[1;32m   3291\u001b[0m           \u001b[0mself\u001b[0m\u001b[0;34m.\u001b[0m\u001b[0m_function_cache\u001b[0m\u001b[0;34m.\u001b[0m\u001b[0madd_call_context\u001b[0m\u001b[0;34m(\u001b[0m\u001b[0mcache_key\u001b[0m\u001b[0;34m.\u001b[0m\u001b[0mcall_context\u001b[0m\u001b[0;34m)\u001b[0m\u001b[0;34m\u001b[0m\u001b[0;34m\u001b[0m\u001b[0m\n\u001b[0;32m-> 3292\u001b[0;31m           \u001b[0mgraph_function\u001b[0m \u001b[0;34m=\u001b[0m \u001b[0mself\u001b[0m\u001b[0;34m.\u001b[0m\u001b[0m_create_graph_function\u001b[0m\u001b[0;34m(\u001b[0m\u001b[0margs\u001b[0m\u001b[0;34m,\u001b[0m \u001b[0mkwargs\u001b[0m\u001b[0;34m)\u001b[0m\u001b[0;34m\u001b[0m\u001b[0;34m\u001b[0m\u001b[0m\n\u001b[0m\u001b[1;32m   3293\u001b[0m           self._function_cache.add(cache_key, cache_key_deletion_observer,\n\u001b[1;32m   3294\u001b[0m                                    graph_function)\n",
      "\u001b[0;32m~/anaconda3/envs/diversedrl/lib/python3.7/site-packages/tensorflow/python/eager/function.py\u001b[0m in \u001b[0;36m_create_graph_function\u001b[0;34m(self, args, kwargs, override_flat_arg_shapes)\u001b[0m\n\u001b[1;32m   3138\u001b[0m             \u001b[0marg_names\u001b[0m\u001b[0;34m=\u001b[0m\u001b[0marg_names\u001b[0m\u001b[0;34m,\u001b[0m\u001b[0;34m\u001b[0m\u001b[0;34m\u001b[0m\u001b[0m\n\u001b[1;32m   3139\u001b[0m             \u001b[0moverride_flat_arg_shapes\u001b[0m\u001b[0;34m=\u001b[0m\u001b[0moverride_flat_arg_shapes\u001b[0m\u001b[0;34m,\u001b[0m\u001b[0;34m\u001b[0m\u001b[0;34m\u001b[0m\u001b[0m\n\u001b[0;32m-> 3140\u001b[0;31m             capture_by_value=self._capture_by_value),\n\u001b[0m\u001b[1;32m   3141\u001b[0m         \u001b[0mself\u001b[0m\u001b[0;34m.\u001b[0m\u001b[0m_function_attributes\u001b[0m\u001b[0;34m,\u001b[0m\u001b[0;34m\u001b[0m\u001b[0;34m\u001b[0m\u001b[0m\n\u001b[1;32m   3142\u001b[0m         \u001b[0mfunction_spec\u001b[0m\u001b[0;34m=\u001b[0m\u001b[0mself\u001b[0m\u001b[0;34m.\u001b[0m\u001b[0mfunction_spec\u001b[0m\u001b[0;34m,\u001b[0m\u001b[0;34m\u001b[0m\u001b[0;34m\u001b[0m\u001b[0m\n",
      "\u001b[0;32m~/anaconda3/envs/diversedrl/lib/python3.7/site-packages/tensorflow/python/framework/func_graph.py\u001b[0m in \u001b[0;36mfunc_graph_from_py_func\u001b[0;34m(name, python_func, args, kwargs, signature, func_graph, autograph, autograph_options, add_control_dependencies, arg_names, op_return_value, collections, capture_by_value, override_flat_arg_shapes, acd_record_initial_resource_uses)\u001b[0m\n\u001b[1;32m   1159\u001b[0m         \u001b[0m_\u001b[0m\u001b[0;34m,\u001b[0m \u001b[0moriginal_func\u001b[0m \u001b[0;34m=\u001b[0m \u001b[0mtf_decorator\u001b[0m\u001b[0;34m.\u001b[0m\u001b[0munwrap\u001b[0m\u001b[0;34m(\u001b[0m\u001b[0mpython_func\u001b[0m\u001b[0;34m)\u001b[0m\u001b[0;34m\u001b[0m\u001b[0;34m\u001b[0m\u001b[0m\n\u001b[1;32m   1160\u001b[0m \u001b[0;34m\u001b[0m\u001b[0m\n\u001b[0;32m-> 1161\u001b[0;31m       \u001b[0mfunc_outputs\u001b[0m \u001b[0;34m=\u001b[0m \u001b[0mpython_func\u001b[0m\u001b[0;34m(\u001b[0m\u001b[0;34m*\u001b[0m\u001b[0mfunc_args\u001b[0m\u001b[0;34m,\u001b[0m \u001b[0;34m**\u001b[0m\u001b[0mfunc_kwargs\u001b[0m\u001b[0;34m)\u001b[0m\u001b[0;34m\u001b[0m\u001b[0;34m\u001b[0m\u001b[0m\n\u001b[0m\u001b[1;32m   1162\u001b[0m \u001b[0;34m\u001b[0m\u001b[0m\n\u001b[1;32m   1163\u001b[0m       \u001b[0;31m# invariant: `func_outputs` contains only Tensors, CompositeTensors,\u001b[0m\u001b[0;34m\u001b[0m\u001b[0;34m\u001b[0m\u001b[0;34m\u001b[0m\u001b[0m\n",
      "\u001b[0;32m~/anaconda3/envs/diversedrl/lib/python3.7/site-packages/tensorflow/python/data/ops/structured_function.py\u001b[0m in \u001b[0;36mwrapped_fn\u001b[0;34m(*args)\u001b[0m\n\u001b[1;32m    246\u001b[0m           attributes=defun_kwargs)\n\u001b[1;32m    247\u001b[0m       \u001b[0;32mdef\u001b[0m \u001b[0mwrapped_fn\u001b[0m\u001b[0;34m(\u001b[0m\u001b[0;34m*\u001b[0m\u001b[0margs\u001b[0m\u001b[0;34m)\u001b[0m\u001b[0;34m:\u001b[0m  \u001b[0;31m# pylint: disable=missing-docstring\u001b[0m\u001b[0;34m\u001b[0m\u001b[0;34m\u001b[0m\u001b[0m\n\u001b[0;32m--> 248\u001b[0;31m         \u001b[0mret\u001b[0m \u001b[0;34m=\u001b[0m \u001b[0mwrapper_helper\u001b[0m\u001b[0;34m(\u001b[0m\u001b[0;34m*\u001b[0m\u001b[0margs\u001b[0m\u001b[0;34m)\u001b[0m\u001b[0;34m\u001b[0m\u001b[0;34m\u001b[0m\u001b[0m\n\u001b[0m\u001b[1;32m    249\u001b[0m         \u001b[0mret\u001b[0m \u001b[0;34m=\u001b[0m \u001b[0mstructure\u001b[0m\u001b[0;34m.\u001b[0m\u001b[0mto_tensor_list\u001b[0m\u001b[0;34m(\u001b[0m\u001b[0mself\u001b[0m\u001b[0;34m.\u001b[0m\u001b[0m_output_structure\u001b[0m\u001b[0;34m,\u001b[0m \u001b[0mret\u001b[0m\u001b[0;34m)\u001b[0m\u001b[0;34m\u001b[0m\u001b[0;34m\u001b[0m\u001b[0m\n\u001b[1;32m    250\u001b[0m         \u001b[0;32mreturn\u001b[0m \u001b[0;34m[\u001b[0m\u001b[0mops\u001b[0m\u001b[0;34m.\u001b[0m\u001b[0mconvert_to_tensor\u001b[0m\u001b[0;34m(\u001b[0m\u001b[0mt\u001b[0m\u001b[0;34m)\u001b[0m \u001b[0;32mfor\u001b[0m \u001b[0mt\u001b[0m \u001b[0;32min\u001b[0m \u001b[0mret\u001b[0m\u001b[0;34m]\u001b[0m\u001b[0;34m\u001b[0m\u001b[0;34m\u001b[0m\u001b[0m\n",
      "\u001b[0;32m~/anaconda3/envs/diversedrl/lib/python3.7/site-packages/tensorflow/python/data/ops/structured_function.py\u001b[0m in \u001b[0;36mwrapper_helper\u001b[0;34m(*args)\u001b[0m\n\u001b[1;32m    175\u001b[0m       \u001b[0;32mif\u001b[0m \u001b[0;32mnot\u001b[0m \u001b[0m_should_unpack\u001b[0m\u001b[0;34m(\u001b[0m\u001b[0mnested_args\u001b[0m\u001b[0;34m)\u001b[0m\u001b[0;34m:\u001b[0m\u001b[0;34m\u001b[0m\u001b[0;34m\u001b[0m\u001b[0m\n\u001b[1;32m    176\u001b[0m         \u001b[0mnested_args\u001b[0m \u001b[0;34m=\u001b[0m \u001b[0;34m(\u001b[0m\u001b[0mnested_args\u001b[0m\u001b[0;34m,\u001b[0m\u001b[0;34m)\u001b[0m\u001b[0;34m\u001b[0m\u001b[0;34m\u001b[0m\u001b[0m\n\u001b[0;32m--> 177\u001b[0;31m       \u001b[0mret\u001b[0m \u001b[0;34m=\u001b[0m \u001b[0mautograph\u001b[0m\u001b[0;34m.\u001b[0m\u001b[0mtf_convert\u001b[0m\u001b[0;34m(\u001b[0m\u001b[0mself\u001b[0m\u001b[0;34m.\u001b[0m\u001b[0m_func\u001b[0m\u001b[0;34m,\u001b[0m \u001b[0mag_ctx\u001b[0m\u001b[0;34m)\u001b[0m\u001b[0;34m(\u001b[0m\u001b[0;34m*\u001b[0m\u001b[0mnested_args\u001b[0m\u001b[0;34m)\u001b[0m\u001b[0;34m\u001b[0m\u001b[0;34m\u001b[0m\u001b[0m\n\u001b[0m\u001b[1;32m    178\u001b[0m       \u001b[0;32mif\u001b[0m \u001b[0m_should_pack\u001b[0m\u001b[0;34m(\u001b[0m\u001b[0mret\u001b[0m\u001b[0;34m)\u001b[0m\u001b[0;34m:\u001b[0m\u001b[0;34m\u001b[0m\u001b[0;34m\u001b[0m\u001b[0m\n\u001b[1;32m    179\u001b[0m         \u001b[0mret\u001b[0m \u001b[0;34m=\u001b[0m \u001b[0mtuple\u001b[0m\u001b[0;34m(\u001b[0m\u001b[0mret\u001b[0m\u001b[0;34m)\u001b[0m\u001b[0;34m\u001b[0m\u001b[0;34m\u001b[0m\u001b[0m\n",
      "\u001b[0;32m~/anaconda3/envs/diversedrl/lib/python3.7/site-packages/tensorflow/python/autograph/impl/api.py\u001b[0m in \u001b[0;36mwrapper\u001b[0;34m(*args, **kwargs)\u001b[0m\n\u001b[1;32m    687\u001b[0m       \u001b[0;32mtry\u001b[0m\u001b[0;34m:\u001b[0m\u001b[0;34m\u001b[0m\u001b[0;34m\u001b[0m\u001b[0m\n\u001b[1;32m    688\u001b[0m         \u001b[0;32mwith\u001b[0m \u001b[0mconversion_ctx\u001b[0m\u001b[0;34m:\u001b[0m\u001b[0;34m\u001b[0m\u001b[0;34m\u001b[0m\u001b[0m\n\u001b[0;32m--> 689\u001b[0;31m           \u001b[0;32mreturn\u001b[0m \u001b[0mconverted_call\u001b[0m\u001b[0;34m(\u001b[0m\u001b[0mf\u001b[0m\u001b[0;34m,\u001b[0m \u001b[0margs\u001b[0m\u001b[0;34m,\u001b[0m \u001b[0mkwargs\u001b[0m\u001b[0;34m,\u001b[0m \u001b[0moptions\u001b[0m\u001b[0;34m=\u001b[0m\u001b[0moptions\u001b[0m\u001b[0;34m)\u001b[0m\u001b[0;34m\u001b[0m\u001b[0;34m\u001b[0m\u001b[0m\n\u001b[0m\u001b[1;32m    690\u001b[0m       \u001b[0;32mexcept\u001b[0m \u001b[0mException\u001b[0m \u001b[0;32mas\u001b[0m \u001b[0me\u001b[0m\u001b[0;34m:\u001b[0m  \u001b[0;31m# pylint:disable=broad-except\u001b[0m\u001b[0;34m\u001b[0m\u001b[0;34m\u001b[0m\u001b[0m\n\u001b[1;32m    691\u001b[0m         \u001b[0;32mif\u001b[0m \u001b[0mhasattr\u001b[0m\u001b[0;34m(\u001b[0m\u001b[0me\u001b[0m\u001b[0;34m,\u001b[0m \u001b[0;34m'ag_error_metadata'\u001b[0m\u001b[0;34m)\u001b[0m\u001b[0;34m:\u001b[0m\u001b[0;34m\u001b[0m\u001b[0;34m\u001b[0m\u001b[0m\n",
      "\u001b[0;32m~/anaconda3/envs/diversedrl/lib/python3.7/site-packages/tensorflow/python/autograph/impl/api.py\u001b[0m in \u001b[0;36mconverted_call\u001b[0;34m(f, args, kwargs, caller_fn_scope, options)\u001b[0m\n\u001b[1;32m    327\u001b[0m     \u001b[0moptions\u001b[0m \u001b[0;34m=\u001b[0m \u001b[0mcaller_fn_scope\u001b[0m\u001b[0;34m.\u001b[0m\u001b[0mcallopts\u001b[0m\u001b[0;34m\u001b[0m\u001b[0;34m\u001b[0m\u001b[0m\n\u001b[1;32m    328\u001b[0m \u001b[0;34m\u001b[0m\u001b[0m\n\u001b[0;32m--> 329\u001b[0;31m   \u001b[0;32mif\u001b[0m \u001b[0mconversion\u001b[0m\u001b[0;34m.\u001b[0m\u001b[0mis_in_allowlist_cache\u001b[0m\u001b[0;34m(\u001b[0m\u001b[0mf\u001b[0m\u001b[0;34m,\u001b[0m \u001b[0moptions\u001b[0m\u001b[0;34m)\u001b[0m\u001b[0;34m:\u001b[0m\u001b[0;34m\u001b[0m\u001b[0;34m\u001b[0m\u001b[0m\n\u001b[0m\u001b[1;32m    330\u001b[0m     \u001b[0mlogging\u001b[0m\u001b[0;34m.\u001b[0m\u001b[0mlog\u001b[0m\u001b[0;34m(\u001b[0m\u001b[0;36m2\u001b[0m\u001b[0;34m,\u001b[0m \u001b[0;34m'Allowlisted %s: from cache'\u001b[0m\u001b[0;34m,\u001b[0m \u001b[0mf\u001b[0m\u001b[0;34m)\u001b[0m\u001b[0;34m\u001b[0m\u001b[0;34m\u001b[0m\u001b[0m\n\u001b[1;32m    331\u001b[0m     \u001b[0;32mreturn\u001b[0m \u001b[0m_call_unconverted\u001b[0m\u001b[0;34m(\u001b[0m\u001b[0mf\u001b[0m\u001b[0;34m,\u001b[0m \u001b[0margs\u001b[0m\u001b[0;34m,\u001b[0m \u001b[0mkwargs\u001b[0m\u001b[0;34m,\u001b[0m \u001b[0moptions\u001b[0m\u001b[0;34m,\u001b[0m \u001b[0;32mFalse\u001b[0m\u001b[0;34m)\u001b[0m\u001b[0;34m\u001b[0m\u001b[0;34m\u001b[0m\u001b[0m\n",
      "\u001b[0;32m~/anaconda3/envs/diversedrl/lib/python3.7/site-packages/tensorflow/python/autograph/impl/conversion.py\u001b[0m in \u001b[0;36mis_in_allowlist_cache\u001b[0;34m(entity, options)\u001b[0m\n\u001b[1;32m    214\u001b[0m \u001b[0;32mdef\u001b[0m \u001b[0mis_in_allowlist_cache\u001b[0m\u001b[0;34m(\u001b[0m\u001b[0mentity\u001b[0m\u001b[0;34m,\u001b[0m \u001b[0moptions\u001b[0m\u001b[0;34m)\u001b[0m\u001b[0;34m:\u001b[0m\u001b[0;34m\u001b[0m\u001b[0;34m\u001b[0m\u001b[0m\n\u001b[1;32m    215\u001b[0m   \u001b[0;32mtry\u001b[0m\u001b[0;34m:\u001b[0m\u001b[0;34m\u001b[0m\u001b[0;34m\u001b[0m\u001b[0m\n\u001b[0;32m--> 216\u001b[0;31m     \u001b[0;32mreturn\u001b[0m \u001b[0m_ALLOWLIST_CACHE\u001b[0m\u001b[0;34m.\u001b[0m\u001b[0mhas\u001b[0m\u001b[0;34m(\u001b[0m\u001b[0mentity\u001b[0m\u001b[0;34m,\u001b[0m \u001b[0moptions\u001b[0m\u001b[0;34m)\u001b[0m\u001b[0;34m\u001b[0m\u001b[0;34m\u001b[0m\u001b[0m\n\u001b[0m\u001b[1;32m    217\u001b[0m   \u001b[0;32mexcept\u001b[0m \u001b[0mTypeError\u001b[0m\u001b[0;34m:\u001b[0m\u001b[0;34m\u001b[0m\u001b[0;34m\u001b[0m\u001b[0m\n\u001b[1;32m    218\u001b[0m     \u001b[0;31m# Catch-all for entities that are unhashable or don't allow weakrefs.\u001b[0m\u001b[0;34m\u001b[0m\u001b[0;34m\u001b[0m\u001b[0;34m\u001b[0m\u001b[0m\n",
      "\u001b[0;32m~/anaconda3/envs/diversedrl/lib/python3.7/site-packages/tensorflow/python/autograph/pyct/cache.py\u001b[0m in \u001b[0;36mhas\u001b[0;34m(self, entity, subkey)\u001b[0m\n\u001b[1;32m     39\u001b[0m   \u001b[0;32mdef\u001b[0m \u001b[0mhas\u001b[0m\u001b[0;34m(\u001b[0m\u001b[0mself\u001b[0m\u001b[0;34m,\u001b[0m \u001b[0mentity\u001b[0m\u001b[0;34m,\u001b[0m \u001b[0msubkey\u001b[0m\u001b[0;34m)\u001b[0m\u001b[0;34m:\u001b[0m\u001b[0;34m\u001b[0m\u001b[0;34m\u001b[0m\u001b[0m\n\u001b[1;32m     40\u001b[0m     \u001b[0mkey\u001b[0m \u001b[0;34m=\u001b[0m \u001b[0mself\u001b[0m\u001b[0;34m.\u001b[0m\u001b[0m_get_key\u001b[0m\u001b[0;34m(\u001b[0m\u001b[0mentity\u001b[0m\u001b[0;34m)\u001b[0m\u001b[0;34m\u001b[0m\u001b[0;34m\u001b[0m\u001b[0m\n\u001b[0;32m---> 41\u001b[0;31m     \u001b[0mparent\u001b[0m \u001b[0;34m=\u001b[0m \u001b[0mself\u001b[0m\u001b[0;34m.\u001b[0m\u001b[0m_cache\u001b[0m\u001b[0;34m.\u001b[0m\u001b[0mget\u001b[0m\u001b[0;34m(\u001b[0m\u001b[0mkey\u001b[0m\u001b[0;34m,\u001b[0m \u001b[0;32mNone\u001b[0m\u001b[0;34m)\u001b[0m\u001b[0;34m\u001b[0m\u001b[0;34m\u001b[0m\u001b[0m\n\u001b[0m\u001b[1;32m     42\u001b[0m     \u001b[0;32mif\u001b[0m \u001b[0mparent\u001b[0m \u001b[0;32mis\u001b[0m \u001b[0;32mNone\u001b[0m\u001b[0;34m:\u001b[0m\u001b[0;34m\u001b[0m\u001b[0;34m\u001b[0m\u001b[0m\n\u001b[1;32m     43\u001b[0m       \u001b[0;32mreturn\u001b[0m \u001b[0;32mFalse\u001b[0m\u001b[0;34m\u001b[0m\u001b[0;34m\u001b[0m\u001b[0m\n",
      "\u001b[0;31mKeyboardInterrupt\u001b[0m: "
     ]
    }
   ],
   "source": [
    "# To directly compare the original and biased models several times, evaluating\n",
    "# prediction differences, diversity, and validity\n",
    "for k in range(20):\n",
    "    print(\"BIASED GENERATION: \" + str(k))\n",
    "    dif,div,valid,perc_uniq,perc_desirable = RL_obj.compare_models(configReinforce.n_to_generate,True)\n",
    "    difs.append(dif)\n",
    "    divs.append(div)\n",
    "    perc_valid.append(valid)\n",
    "print(\"Mean value difference: \" + str(np.mean(difs)))\n",
    "print(\"Mean value diversity: \" + str(np.mean(divs)))\n",
    "print(\"Mean value validity: \" + str(np.mean(perc_valid)))"
   ]
  },
  {
   "cell_type": "code",
   "execution_count": null,
   "id": "ac44c5e6",
   "metadata": {},
   "outputs": [],
   "source": []
  }
 ],
 "metadata": {
  "kernelspec": {
   "display_name": "Python 3 (ipykernel)",
   "language": "python",
   "name": "python3"
  },
  "language_info": {
   "codemirror_mode": {
    "name": "ipython",
    "version": 3
   },
   "file_extension": ".py",
   "mimetype": "text/x-python",
   "name": "python",
   "nbconvert_exporter": "python",
   "pygments_lexer": "ipython3",
   "version": "3.7.11"
  }
 },
 "nbformat": 4,
 "nbformat_minor": 5
}
